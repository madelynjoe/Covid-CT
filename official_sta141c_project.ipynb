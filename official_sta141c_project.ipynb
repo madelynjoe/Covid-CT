{
  "nbformat": 4,
  "nbformat_minor": 0,
  "metadata": {
    "colab": {
      "provenance": [],
      "include_colab_link": true
    },
    "kernelspec": {
      "name": "python3",
      "display_name": "Python 3"
    },
    "language_info": {
      "name": "python"
    },
    "gpuClass": "standard",
    "accelerator": "GPU"
  },
  "cells": [
    {
      "cell_type": "markdown",
      "metadata": {
        "id": "view-in-github",
        "colab_type": "text"
      },
      "source": [
        "<a href=\"https://colab.research.google.com/github/madelynjoe/Covid-CT/blob/main/official_sta141c_project.ipynb\" target=\"_parent\"><img src=\"https://colab.research.google.com/assets/colab-badge.svg\" alt=\"Open In Colab\"/></a>"
      ]
    },
    {
      "cell_type": "code",
      "source": [
        "import cv2\n",
        "from skimage import color\n",
        "from PIL import Image\n",
        "import matplotlib.pyplot as plt\n",
        "from google.colab.patches import cv2_imshow\n",
        "import numpy as np\n",
        "from scipy.linalg import solve_triangular\n",
        "from sklearn.model_selection import train_test_split\n",
        "from numpy.linalg import svd"
      ],
      "metadata": {
        "id": "bt5yYMGIaz13"
      },
      "execution_count": null,
      "outputs": []
    },
    {
      "cell_type": "code",
      "source": [
        "from google.colab import drive\n",
        "drive.mount('/content/drive')"
      ],
      "metadata": {
        "id": "pxkOAOICg74_",
        "colab": {
          "base_uri": "https://localhost:8080/"
        },
        "outputId": "1cd6feb1-9fa7-486c-e7c7-c563a42bba4f"
      },
      "execution_count": null,
      "outputs": [
        {
          "output_type": "stream",
          "name": "stdout",
          "text": [
            "Mounted at /content/drive\n"
          ]
        }
      ]
    },
    {
      "cell_type": "code",
      "source": [
        "#Collin Code\n",
        "from PIL import Image\n",
        "import os\n",
        "\n",
        "# folder path for CT_COVID\n",
        "dir_path = r'/content/drive/MyDrive/Project COVID-CT/data/CT_COVID'    #put file path to CT_COVID\n",
        "count = 0\n",
        "# Iterate directory\n",
        "for path in os.listdir(dir_path):\n",
        "    # check if current path is a file\n",
        "    if os.path.isfile(os.path.join(dir_path, path)):\n",
        "        count += 1\n",
        "\n",
        "# folder path for CT_NonCOVID\n",
        "dir_path = r'/content/drive/MyDrive/Project COVID-CT/data/CT_NonCOVID'       #put file path to CT_NonCOVID\n",
        "count_1 = 0\n",
        "# Iterate directory\n",
        "for path in os.listdir(dir_path):\n",
        "    # check if current path is a file\n",
        "    if os.path.isfile(os.path.join(dir_path, path)):\n",
        "        count_1 += 1\n",
        "\n",
        "\n",
        "print('File count CT_COVID:', count)\n",
        "print('File count CT_NonCOVID:', count_1)\n",
        "\n",
        "print('Total files combined:', count + count_1)"
      ],
      "metadata": {
        "id": "EtvaN8Us1rX1",
        "colab": {
          "base_uri": "https://localhost:8080/"
        },
        "outputId": "ef3fa15b-e41e-421a-8153-e806e4f37fd2"
      },
      "execution_count": null,
      "outputs": [
        {
          "output_type": "stream",
          "name": "stdout",
          "text": [
            "File count CT_COVID: 349\n",
            "File count CT_NonCOVID: 397\n",
            "Total files combined: 746\n"
          ]
        }
      ]
    },
    {
      "cell_type": "code",
      "source": [
        "# 1st part of path and 2nd part of path\n",
        "#assigning the file paths for the images to lists\n",
        "#Covid positive list\n",
        "CT_COVID_path = r'/content/drive/MyDrive/Project COVID-CT/data/CT_COVID'    #enter file path for google drive folder with CT_COVID images\n",
        "list_CT_COVID = []\n",
        "for path in os.listdir(CT_COVID_path):\n",
        "  #print(path)\n",
        "  list_CT_COVID.append(path)\n",
        "\n",
        "print(list_CT_COVID)\n",
        "\n",
        "#covid negative list\n",
        "CT_NonCOVID_path = r'/content/drive/MyDrive/Project COVID-CT/data/CT_NonCOVID'       #enter file path for google drive folder with CT_NonCOVID images\n",
        "list_CT_NonCOVID = []\n",
        "for path in os.listdir(CT_NonCOVID_path):\n",
        "  #print(path)\n",
        "  list_CT_NonCOVID.append(path)\n",
        "\n",
        "print(list_CT_NonCOVID)"
      ],
      "metadata": {
        "id": "ztKgoCCS1tJB",
        "colab": {
          "base_uri": "https://localhost:8080/"
        },
        "outputId": "4c1cdf31-c578-48f6-b959-efa29ebb3808"
      },
      "execution_count": null,
      "outputs": [
        {
          "output_type": "stream",
          "name": "stdout",
          "text": [
            "['2020.02.22.20024927-p19-68%2.png', '2020.02.25.20021568-p24-111%8.png', '2020.03.04.20030395-p27-108%7.png', '2020.03.09.20033118-p20-93%2.png', '2020.03.12.20034686-p17-91-4.png', '2020.03.12.20034686-p17-91-5.png', '2020.03.13.20035212-p23-152.png', '2020.03.22.20034041-p18-92-3.png', '2020.03.09.20033118-p20-93%3.png', '2020.03.21.20040691-p18-6-6.png', '2020.03.12.20034686-p17-91-6.png', '2020.03.01.20029769-p21-73_1%0.png', '2020.03.04.20030395-p27-108%5.png', 'Recurrence-of-positive-SARS-CoV-2-RNA-in-C_2020_International-Journal-of-Inf-p1-21%1.png', '2020.03.12.20027185-p8-217.png', '2020.02.26.20027938-p6-80_2%0.png', '2020.03.22.20034041-p18-92-2.png', '2020.02.17.20024018-p17-61%4.png', '2020.03.07.20031393-p7-50%2.png', '2020.03.07.20031393-p7-50%3.png', '2020.02.22.20024927-p19-68%0.png', '2020.03.09.20033118-p20-93%0.png', '2020.02.22.20024927-p20-70%0.png', '2020.03.13.20035212-p23-153.png', '2020.03.01.20029769-p21-73_1%1.png', 'Recurrence-of-positive-SARS-CoV-2-RNA-in-C_2020_International-Journal-of-Inf-p1-21%0.png', '2020.03.07.20031393-p7-50%1.png', '2020.02.26.20027938-p6-80_2%1.png', '2020.03.22.20034041-p18-92-1.png', '2020.02.25.20021568-p24-111%9.png', '2020.03.09.20033118-p20-93%1.png', '2020.03.01.20029769-p21-73_1%2.png', '2020.03.04.20030395-p27-108%4.png', '2020.02.22.20024927-p19-68%3.png', '2020.02.10.20021584-p6-52%9.png', '2020.03.07.20031393-p7-50%0.png', '2020.02.22.20024927-p19-68%1.png', '2020.03.04.20030395-p27-108%6.png', '2020.02.22.20024927-p19-68%5.png', '2020.02.19.20025023-p20-93%0.png', '2020.02.22.20024927-p19-68%4.png', '2020.03.04.20030395-p27-108%2.png', '2020.03.12.20034686-p17-91-1.png', '2020.02.11.20021493-p16-109%2.png', '2020.02.26.20027938-p6-80_3%1.png', 'kjr-21-e24-p5-31.png', '2020.03.04.20030395-p27-108%1.png', '2020.02.11.20021493-p16-109%0.png', '2020.03.21.20040691-p18-67-5.png', '2020.02.22.20024927-p20-70%2.png', '2020.02.24.20027201-p19-669.png', '2020.03.12.20034686-p17-91-3.png', '2020.03.13.20035212-p23-157.png', '2020.02.19.20025023-p20-93%1.png', '2020.03.26.20041426-p11-128.png', '2020.02.19.20025023-p20-93%2.png', '2020.02.24.20027052-p8-73%0.png', '2020.03.01.20029769-p21-73_4.png', '2020.03.18.20038125-p16-56-6.png', '2020.03.13.20035212-p23-156.png', '2020.02.17.20024018-p17-61%1.png', '2020.02.10.20021584-p6-52%8.png', 'Comparison-of-different-samples-for-2019-novel-cor_2020_International-Journa-p2-21%8.png', '2020.03.21.20040691-p18-67-7.png', 'PIIS0140673620303603%7.png', '2020.03.18.20038125-p16-56-5.png', '2020.02.26.20027938-p6-80_3%0.png', '2020.03.16.20036145-p19-128-2.png', '2020.03.01.20029769-p21-73_2%1.png', '2020.03.22.20040782-p24-1533-1.png', 'PIIS0140673620303603%4.png', '2020.03.25.20043166-p17-80.png', '2020.03.04.20030395-p27-108%3.png', '2020.02.22.20024927-p20-70%1.png', '2020.03.22.20040782-p24-1533-3.png', 'Comparison-of-different-samples-for-2019-novel-cor_2020_International-Journa-p2-21%9.png', '2020.02.17.20024018-p17-61%0.png', '2020.03.25.20043166-p17-81.png', '2020.03.18.20038125-p16-56-4.png', '2020.02.24.20027052-p8-73%1.png', '2020.02.11.20021493-p16-109%1.png', '2020.02.26.20026989-p34-114_1%1.png', '2020.03.21.20040691-p18-67-4.png', 'med-9780198814924-chapter-17-p10-515.png', 'PIIS0140673620303603%5.png', '2020.03.22.20034041-p17-80-1.png', '2020.02.19.20025023-p20-93%3.png', '2020.03.12.20027185-p8-216.png', '2020.02.24.20027052-p8-73%3.png', '2020.03.01.20029769-p21-73_2%0.png', '2020.02.17.20024018-p17-61%2.png', '2020.02.26.20027938-p6-80_1%0.png', '2020.03.19.20038539-p10-57.png', '2020.02.17.20024018-p17-61%3.png', '2020.03.12.20034686-p17-91-2.png', '2020.03.16.20036145-p19-128-3.png', '2020.03.22.20040782-p24-1533-2.png', '2020.03.04.20030395-p27-108%0.png', '2020.03.13.20035212-p23-154.png', 'PIIS0140673620303603%6.png', '2020.03.13.20035212-p23-155.png', '2020.03.25.20037721-p27-174.png', '2020.02.26.20026989-p34-114_1%0.png', '2020.03.01.20029769-p21-73_2%2.png', '2020.02.22.20024927-p20-70%3.png', '2020.02.24.20027052-p8-73%2.png', '2020.02.26.20027938-p6-80_1%1.png', '2020.03.21.20040691-p18-67-1.png', '2020.03.08.20031658-p15-103.png', '2020.02.25.20021568-p23-108%4.png', '2020.03.18.20038125-p16-56-1.png', '2019-novel-Coronavirus-severe-adult-respiratory-dist_2020_International-Jour-p3-89%1.png', '2020.03.20.20037325-p23-123.png', 'PIIS0140673620301549_0%0.png', '2020.02.25.20021568-p23-108%6.png', '2020.02.25.20021568-p23-108%7.png', 'Comparison-of-different-samples-for-2019-novel-cor_2020_International-Journa-p2-21%11.png', '2020.03.11.20033159-p12-45%2.png', '2020.02.26.20026989-p34-114_2%0.png', '2020.03.03.20030775-p12-93%1.png', '2020.02.23.20026856-p17-115%4.png', '2020.03.18.20038125-p16-56-2.png', '2020.03.10.20032136-p34-118_1%0.png', 'Comparison-of-different-samples-for-2019-novel-cor_2020_International-Journa-p2-21%1.png', '2020.03.03.20030775-p12-93%0.png', '2020.02.23.20026856-p17-115%5.png', '2020.03.25.20043166-p17-79.png', '2020.03.16.20036145-p19-128-4.png', '2020.03.22.20034041-p17-80-2.png', 'PIIS0140673620301549_0%1.png', 'Comparison-of-different-samples-for-2019-novel-cor_2020_International-Journa-p2-21%2.png', 'Ni2020_Article_CombinationOfWesternMedicineAn-p3-10%1.png', '2020.03.20.20037325-p23-122.png', 'bmj.m606.full-p4-22%2.png', '2020.03.22.20040782-p24-1533-4.png', 'PIIS0140673620303603%0.png', '2020.03.21.20040691-p18-67-2.png', '2020.03.22.20040782-p24-1533-8.png', '2020.02.26.20026989-p34-114_2%1.png', '2020.03.21.20040691-p18-67-3.png', '2020.02.25.20021568-p23-108%8.png', 'kjr-21-e25-p1-6.png', '2020.03.20.20037325-p23-121.png', '2020.03.22.20040782-p24-1533-5.png', '2020.03.18.20038125-p16-56-3.png', '2020.02.25.20021568-p23-108%9.png', '2020.03.22.20040782-p24-1533-7.png', '2020.03.16.20035105-p6-64-4.png', '2020.03.25.20037721-p27-172.png', 'PIIS0140673620303603%1.png', 'PIIS0140673620303603%3.png', '2020.03.16.20036145-p19-128-1.png', '2020.03.22.20040782-p25-1545.png', 'PIIS0140673620303603%2.png', 'bmj.m606.full-p4-22%3.png', 'PIIS0140673620302117_2.png', '2020.02.27.20027557-p25-137%4.png', '2020.03.22.20040782-p25-1544.png', 'impact_of_covid19_infection_on_pregnancy_outcomes_and_the_risk_of_maternaltoneonatal_intrapartum_transmission_of_covid19_during_natural_birth-p8-41%1.png', '2019-novel-Coronavirus-severe-adult-respiratory-dist_2020_International-Jour-p3-89%0.png', '2020.03.25.20037721-p27-181.png', '2020.03.11.20033159-p12-45%0.png', '2020.03.25.20037721-p27-165.png', '2020.03.22.20040782-p24-1533-6.png', 'Comparison-of-different-samples-for-2019-novel-cor_2020_International-Journa-p2-21%0.png', '2020.03.11.20033159-p12-45%1.png', '2020.03.25.20043166-p17-78.png', 'Ni2020_Article_CombinationOfWesternMedicineAn-p3-10%0.png', 'kjr-21-e25-p1-8.png', '2020.03.25.20037721-p27-182.png', '2020.03.01.20029769-p21-73_3.png', '2020.03.25.20037721-p27-173.png', '2020.03.22.20040782-p25-1546.png', 'bmj.m606.full-p4-22%1.png', '2020.02.25.20021568-p23-108%0.png', '2020.03.21.20040691-p18-67-8.png', '2020.02.11.20022053-p12-67%1.png', '2020.03.04.20031039-p23-97_2%1.png', '2020.02.28.20029025-p23-183.png', '2020.02.23.20026856-p17-115%3.png', '2020.02.24.20027201-p19-670.png', '2020.03.04.20031047-p12-81%0.png', '2020.02.25.20021568-p23-108%5.png', 'impact_of_covid19_infection_on_pregnancy_outcomes_and_the_risk_of_maternaltoneonatal_intrapartum_transmission_of_covid19_during_natural_birth-p8-41%3.png', 'bmj.m606.full-p4-22%7.png', '2020.03.10.20032136-p34-118_1%1.png', '2020.03.22.20040782-p25-1543.png', '2020.03.04.20031047-p12-81%2.png', '2020.03.08.20031658-p15-104.png', '2020.03.03.20030353-p17-106%2.png', 'bmj.m606.full-p4-22%6.png', '2020.02.25.20021568-p23-108%1.png', '2020.03.04.20031039-p23-97_2%0.png', '2020.02.11.20022053-p12-67%0.png', '2020.03.11.20033159-p12-45%3.png', 'Talaromyces-marneffei-infection-relapse-presenting-as-ost_2020_International-p1-12%2.png', '2020.03.22.20040782-p25-1542.png', 'Talaromyces-marneffei-infection-relapse-presenting-as-ost_2020_International-p1-12%3.png', 'impact_of_covid19_infection_on_pregnancy_outcomes_and_the_risk_of_maternaltoneonatal_intrapartum_transmission_of_covid19_during_natural_birth-p8-41%5.png', 'bmj.m606.full-p4-22%4.png', '2020.03.03.20030353-p17-106%1.png', 'Talaromyces-marneffei-infection-relapse-presenting-as-ost_2020_International-p1-12%0.png', '2020.02.11.20022053-p12-67%3.png', '2020.03.11.20033159-p12-45%4.png', '2020.02.28.20029025-p23-182.png', '2020.03.08.20031658-p15-105.png', 'Comparison-of-different-samples-for-2019-novel-cor_2020_International-Journa-p2-21%7.png', '2020.02.27.20027557-p25-137%1.png', 'PIIS0140673620303603%8.png', '2020.03.04.20031039-p23-97_2%2.png', 'Comparison-of-different-samples-for-2019-novel-cor_2020_International-Journa-p2-21%10.png', '2020.03.12.20027185-p8-218.png', 'Ni2020_Article_CombinationOfWesternMedicineAn-p4-13%0.png', '2020.02.25.20021568-p23-108%3.png', '2020.02.25.20021568-p23-108%2.png', '2020.03.04.20031047-p12-81%3.png', '2020.02.27.20027557-p25-137%0.png', 'PIIS0140673620302117_1.png', '2020.02.11.20022053-p12-67%2.png', 'kjr-21-e24-p3-16.png', 'Comparison-of-different-samples-for-2019-novel-cor_2020_International-Journa-p2-21%5.png', '2020.02.23.20026856-p17-115%2.png', 'ehaa254-p0-63%3.png', '2020.03.20.20037325-p23-124.png', 'Comparison-of-different-samples-for-2019-novel-cor_2020_International-Journa-p2-21%6.png', '2020.02.27.20027557-p25-137%3.png', 'Comparison-of-different-samples-for-2019-novel-cor_2020_International-Journa-p2-21%3.png', '2020.03.08.20031658-p15-106.png', 'bmj.m606.full-p4-22%0.png', '2020.03.11.20033159-p12-45%5.png', '2020.03.03.20030353-p17-106%0.png', 'ehaa254-p0-63%2.png', '2020.03.04.20031047-p12-81%1.png', 'Ni2020_Article_CombinationOfWesternMedicineAn-p4-13%1.png', '2020.02.23.20026856-p17-115%1.png', '2020.03.16.20035105-p6-64-3.png', '2020.03.16.20035105-p6-64-1.png', '2020.03.16.20035105-p6-64-2.png', '2020.03.22.20034041-p16-66.png', 'Comparison-of-different-samples-for-2019-novel-cor_2020_International-Journa-p2-21%4.png', '2020.03.22.20040782-p25-1541.png', 'bmj.m606.full-p4-22%5.png', '2020.02.27.20027557-p25-137%2.png', 'Talaromyces-marneffei-infection-relapse-presenting-as-ost_2020_International-p1-12%1.png', '2020.02.23.20026856-p17-115%0.png', '2020.03.04.20026005-p12-1946%1.png', '2020.02.10.20021584-p6-52%0.png', '2020.03.26.20041426-p11-131.png', '2020.03.04.20026005-p12-1946%0.png', '2020.02.25.20021568-p23-108%10.png', '2020.02.25.20021568-p23-108%11.png', '2020.03.26.20041426-p11-130.png', '2020.01.24.919183-p27-135.png', '2020.03.10.20032136-p34-118_2%0.png', '2020.03.13.20035212-p23-158.png', '2020.03.19.20038539-p10-59.png', '2020.02.10.20021584-p6-52%7.png', 'kjr-21-e24-p5-29.png', '2020.02.25.20021568-p24-111%3.png', '2020.02.25.20021568-p24-111%7.png', '2020.02.25.20021568-p24-111%0.png', '2020.03.13.20035212-p23-159.png', '2020.02.25.20021568-p24-111%6.png', '2020.02.25.20021568-p24-111%1.png', '2020.03.03.20030775-p11-91.png', '2020.01.24.919183-p27-132.png', '2020.03.04.20026005-p12-1946%3.png', '2020.03.04.20030395-p27-108%8.png', '2020.03.26.20041426-p11-121.png', 'kjr-21-e24-p2-8.png', '2020.02.10.20021584-p6-52%5.png', '2020.02.10.20021584-p6-52%4.png', '2020.01.24.919183-p27-133.png', '2020.02.10.20021584-p6-52%15.png', '2020.02.22.20024927-p18-66%2.png', '2020.03.26.20041426-p11-124.png', '2020.03.03.20030775-p10-88%1.png', '2020.03.30.20047985-p9-56%1.png', '2020.03.03.20030775-p10-88%0.png', '2020.02.13.20022673-p13-77%0.png', '2020.03.26.20041426-p11-132.png', '2020.03.13.20035212-p23-161.png', '2020.02.10.20021584-p6-52%13.png', '2020.02.10.20021584-p6-52%12.png', '2020.03.26.20041426-p11-125.png', '2020.03.19.20038539-p10-62.png', '2020.02.25.20021568-p24-111%2.png', 'PIIS0140673620301549_2.png', '2020.03.18.20038125-p15-54-2.png', '2020.02.10.20021584-p6-52%6.png', '2020.03.04.20031047-p13-84%0.png', '2020.03.04.20031047-p13-84%1.png', '2020.02.25.20027763-p15-53%0.png', 'kjr-21-e25-p1-12.png', '2020.03.04.20031047-p13-84%2.png', '2020.03.04.20031039-p23-97_1%2.png', '2020.03.26.20041426-p11-126.png', '2020.03.10.20032136-p34-118_2%1.png', '2020.03.26.20041426-p11-119.png', '2020.03.18.20038125-p15-54-6.png', '2020.03.26.20041426-p11-133.png', '2020.03.19.20038539-p10-58.png', '2020.01.24.919183-p27-134.png', '2020.03.04.20031047-p13-84%3.png', '2020.03.26.20041426-p11-127.png', '2020.03.04.20031047-p14-87%0.png', '2020.02.25.20021568-p23-108%15.png', '2020.03.13.20035212-p23-160.png', '2020.02.10.20021584-p6-52%14.png', '2019-novel-Coronavirus-severe-adult-respiratory-dist_2020_International-Jour-p3-91.png', 'kjr-21-e25-p1-10.png', '2020.02.25.20021568-p23-108%14.png', '2020.03.04.20026005-p12-1946%2.png', '2020.03.19.20038539-p10-60.png', '2020.02.10.20021584-p6-52%11.png', '2020.03.04.20031047-p13-84%4.png', '2020.03.04.20026005-p12-1946%5.png', '2020.03.13.20035212-p23-162.png', '2020.03.26.20041426-p11-123.png', '2020.03.13.20035212-p23-163.png', '2020.03.18.20038125-p15-54-5.png', '2020.02.25.20021568-p23-108%13.png', '2020.03.04.20031039-p23-97_1%0.png', '2020.03.04.20031047-p14-87%1.png', '2020.02.25.20021568-p24-111%5.png', '2020.03.30.20047985-p9-56%0.png', '2020.03.18.20038125-p15-54-4.png', '2020.03.04.20031047-p13-84%5.png', '2020.02.25.20021568-p23-108%12.png', 'kjr-21-e25-p1-14.png', '2020.02.10.20021584-p6-52%3.png', '2020.02.22.20024927-p18-66%1.png', '2020.02.10.20021584-p6-52%2.png', '2020.03.04.20026005-p12-1946%4.png', 'PIIS0140673620301549_1.png', '2020.02.22.20024927-p18-66%0.png', '2020.03.30.20047985-p9-56%3.png', '2020.03.04.20031039-p23-97_1%1.png', '2020.03.30.20047985-p9-56%2.png', '2020.03.26.20041426-p11-122.png', '2020.03.26.20041426-p11-120.png', '2020.02.25.20021568-p24-111%4.png', '2020.02.10.20021584-p6-52%10.png', '2020.02.25.20027763-p15-53%1.png', '2020.02.13.20022673-p13-77%1.png', '2020.03.19.20038539-p10-61.png', '2020.02.13.20022673-p13-77%2.png', '2020.02.10.20021584-p6-52%1.png', '2020.03.12.20027185-p8-221.png']\n",
            "['118.png', '1060.png', '117.png', '116.png', '1059.png', '1093.png', '1048.png', '1100.png', '1078.png', '1%2.jpg', '1029.png', '1099.png', '1%0.jpg', '104.png', '1123.png', '1030.png', '120.png', '114.png', '1211.png', '1094.png', '1072.png', '1212.png', '1098.png', '1164.png', '0.jpg', '112.png', '1217.png', '102.png', '1046.png', '1216.png', '1115.png', '1061.png', '1214.png', '1218.png', '10%1.jpg', '1124.png', '1213.png', '1050.png', '10%0.jpg', '1215.png', '115.png', '11%0.jpg', '1065.png', '1101.png', '11%1.jpg', '1058.png', '1047.png', '12.jpg', '1070.png', '1049.png', '1079.png', '10%2.jpg', '103.png', '1071.png', '1210.png', '11%2.jpg', '1062.png', '1%1.jpg', '1221.png', '14.png', '1428.png', '1313.png', '1298.png', '1262.png', '1561.png', '1332.png', '1328.png', '1307.png', '158.png', '1297.png', '18%1.jpg', '1309.png', '171.png', '1263.png', '1310.png', '1638.png', '18%2.jpg', '15%2.jpg', '17%0.jpg', '1501.png', '1575.png', '17%1.jpg', '15%1.jpg', '1577.png', '1305.png', '1333.png', '15.png', '1498.png', '1277.png', '1562.png', '167.png', '14%2.jpg', '1336.png', '176.png', '1845.png', '1239.png', '1331.png', '18%0.jpg', '1497.png', '1238.png', '177.png', '1702.png', '1306.png', '1308.png', '13.jpg', '1261.png', '18%3.jpg', '1330.png', '1264.png', '1240.png', '1500.png', '1814.png', '1499.png', '14%1.jpg', '15%3.jpg', '1312.png', '1335.png', '1463.png', '166.png', '174.png', '1576.png', '16.jpg', '14%3.jpg', '14%0.jpg', '15%0.jpg', '1888.png', '294.png', '2141.png', '26%3.jpg', '1921.png', '2143.png', '2139.png', '2144.png', '25%1.jpg', '1877.png', '2341.png', '1858.png', '30%2.jpg', '29%2.jpg', '2%3.jpg', '26.png', '226.png', '19%0.jpg', '2040.png', '30%0.jpg', '1922.png', '2%1.jpg', '2108.png', '1919.png', '3.jpg', '1859.png', '1876.png', '2138.png', '25%3.jpg', '28.jpg', '1952.png', '26%0.jpg', '26%1.jpg', '23.png', '2%0.jpg', '2041.png', '30%3.jpg', '2237.png', '227.png', '1846.png', '25%2.jpg', '2039.png', '22%1.jpg', '2140.png', '2007.png', '25.png', '30%4.jpg', '2%2.jpg', '1924.png', '22%0.jpg', '21%0.jpg', '21%1.jpg', '1857.png', '1923.png', '29%0.jpg', '1889.png', '2145.png', '25%0.jpg', '2142.png', '29%1.jpg', '19%1.jpg', '29%3.jpg', '24.png', '1868.png', '30%1.jpg', '20.jpg', '27.jpg', '1920.png', '26%2.jpg', '49%0.jpg', '4%3.jpg', '39%4.jpg', '413.png', '30%5.jpg', '38%2.jpg', '43%1.jpg', '39%0.jpg', '4%7.jpg', '36%1.jpg', '43%2.jpg', '39%5.jpg', '37%1.jpg', '414.png', '39%6.jpg', '32%0.jpg', '382.png', '5%1.jpg', '41.jpg', '38%0.jpg', '486.png', '49%1.jpg', '33%1.jpg', '33%0.jpg', '37%0.jpg', '44.png', '4%1.jpg', '40%0.jpg', '4%5.jpg', '34.jpg', '39%8.jpg', '361.png', '452.png', '378.png', '48.jpg', '37%2.jpg', '39%1.jpg', '40%1.jpg', '35%2.jpg', '39%7.jpg', '47.jpg', '36%0.jpg', '354.png', '487.png', '37%3.jpg', '35%0.jpg', '39%2.jpg', '32%1.jpg', '44%1.jpg', '46.jpg', '44%0.jpg', '43%3.jpg', '38%1.jpg', '37%4.jpg', '385.png', '412.png', '45.jpg', '383.png', '381.png', '33.png', '43.png', '42.jpg', '5%0.jpg', '35%1.jpg', '39%3.jpg', '31.jpg', '64.jpg', '5%5.jpg', '54%1.jpg', '658.png', '577.png', '5%7.jpg', '62.jpg', '6%2.jpg', '52%1.jpg', '6%1.jpg', '67%1.jpg', '661.png', '5%3.jpg', '6%0.jpg', '51%1.jpg', '580.png', '63%5.jpg', '60.jpg', '65%0.jpg', '660.png', '67%2.jpg', '584.png', '63%4.jpg', '575.png', '592.png', '63%6.jpg', '585.png', '662.png', '590.png', '56%0.jpg', '672.png', '65%3.jpg', '68.jpg', '591.png', '579.png', '69%0.jpg', '52%0.jpg', '5%2.jpg', '67%0.jpg', '586.png', '54%2.jpg', '56%1.jpg', '63%1.jpg', '663.png', '673.png', '59.png', '6%3.jpg', '51%0.jpg', '65%2.jpg', '51%3.jpg', '59%0.jpg', '576.png', '583.png', '53.jpg', '65%4.jpg', '63%2.jpg', '63%3.jpg', '51%2.jpg', '65%1.jpg', '63%0.jpg', '5%6.jpg', '50.jpg', '66.jpg', '587.png', '54%0.jpg', '578.png', '63%7.jpg', '57%0.jpg', '5%4.jpg', '69%1.jpg', '54%3.jpg', '76%2.jpg', '70%0.jpg', '890.png', '78.jpg', '8.jpg', '73.jpg', '704.png', '81%2.jpg', '83%1.jpg', '75%1.jpg', '81%3.jpg', '85%1.jpg', '77.jpg', '80%0.jpg', '82%3.jpg', '75%0.jpg', '76%0.jpg', '83%0.jpg', '85%0.jpg', '89%2.jpg', '72.jpg', '706.png', '79.jpg', '81.png', '848.png', '7.jpg', '83%2.jpg', '86.jpg', '82%0.jpg', '84%2.jpg', '90.jpg', '71%1.jpg', '83%3.jpg', '82%2.jpg', '9.jpg', '84%1.jpg', '70%1.jpg', '921.png', '997.png', '887.png', '88.jpg', '753.png', '709.png', '80%1.jpg', '82%1.jpg', '81%1.jpg', '89%3.jpg', '957.png', '84%0.jpg', '91%1.jpg', '889.png', '84%3.jpg', '956.png', '81%0.jpg', '782.png', '74.jpg', '82.png', '71%0.jpg', '996.png', '91%0.jpg', '849.png', '969.png', '705.png', '754.png', '781.png', '76%1.jpg']\n"
          ]
        }
      ]
    },
    {
      "cell_type": "code",
      "source": [
        "# length and image path for covid negative pics\n",
        "# CT_NonCOVID images\n",
        "image_list_COVID_NEGATIVE = []\n",
        "concat_neg = []\n",
        "for i in range(0, 397):\n",
        "  try:\n",
        "    temp = str(CT_NonCOVID_path) + str(\"/\") + list_CT_NonCOVID[i]\n",
        "    concat_neg.append(temp)\n",
        "    img  = Image.open(temp)     #change input of list depending on image u want to see\n",
        "    image_list_COVID_NEGATIVE.append(img)\n",
        "  except IOError:\n",
        "    pass\n",
        "\n",
        "print(len(image_list_COVID_NEGATIVE))\n",
        "print(concat_neg)"
      ],
      "metadata": {
        "id": "z5CakeIP1wV6",
        "colab": {
          "base_uri": "https://localhost:8080/"
        },
        "outputId": "bea575c9-12ab-4a21-8a7f-306632a6f999"
      },
      "execution_count": null,
      "outputs": [
        {
          "output_type": "stream",
          "name": "stdout",
          "text": [
            "397\n",
            "['/content/drive/MyDrive/Project COVID-CT/data/CT_NonCOVID/118.png', '/content/drive/MyDrive/Project COVID-CT/data/CT_NonCOVID/1060.png', '/content/drive/MyDrive/Project COVID-CT/data/CT_NonCOVID/117.png', '/content/drive/MyDrive/Project COVID-CT/data/CT_NonCOVID/116.png', '/content/drive/MyDrive/Project COVID-CT/data/CT_NonCOVID/1059.png', '/content/drive/MyDrive/Project COVID-CT/data/CT_NonCOVID/1093.png', '/content/drive/MyDrive/Project COVID-CT/data/CT_NonCOVID/1048.png', '/content/drive/MyDrive/Project COVID-CT/data/CT_NonCOVID/1100.png', '/content/drive/MyDrive/Project COVID-CT/data/CT_NonCOVID/1078.png', '/content/drive/MyDrive/Project COVID-CT/data/CT_NonCOVID/1%2.jpg', '/content/drive/MyDrive/Project COVID-CT/data/CT_NonCOVID/1029.png', '/content/drive/MyDrive/Project COVID-CT/data/CT_NonCOVID/1099.png', '/content/drive/MyDrive/Project COVID-CT/data/CT_NonCOVID/1%0.jpg', '/content/drive/MyDrive/Project COVID-CT/data/CT_NonCOVID/104.png', '/content/drive/MyDrive/Project COVID-CT/data/CT_NonCOVID/1123.png', '/content/drive/MyDrive/Project COVID-CT/data/CT_NonCOVID/1030.png', '/content/drive/MyDrive/Project COVID-CT/data/CT_NonCOVID/120.png', '/content/drive/MyDrive/Project COVID-CT/data/CT_NonCOVID/114.png', '/content/drive/MyDrive/Project COVID-CT/data/CT_NonCOVID/1211.png', '/content/drive/MyDrive/Project COVID-CT/data/CT_NonCOVID/1094.png', '/content/drive/MyDrive/Project COVID-CT/data/CT_NonCOVID/1072.png', '/content/drive/MyDrive/Project COVID-CT/data/CT_NonCOVID/1212.png', '/content/drive/MyDrive/Project COVID-CT/data/CT_NonCOVID/1098.png', '/content/drive/MyDrive/Project COVID-CT/data/CT_NonCOVID/1164.png', '/content/drive/MyDrive/Project COVID-CT/data/CT_NonCOVID/0.jpg', '/content/drive/MyDrive/Project COVID-CT/data/CT_NonCOVID/112.png', '/content/drive/MyDrive/Project COVID-CT/data/CT_NonCOVID/1217.png', '/content/drive/MyDrive/Project COVID-CT/data/CT_NonCOVID/102.png', '/content/drive/MyDrive/Project COVID-CT/data/CT_NonCOVID/1046.png', '/content/drive/MyDrive/Project COVID-CT/data/CT_NonCOVID/1216.png', '/content/drive/MyDrive/Project COVID-CT/data/CT_NonCOVID/1115.png', '/content/drive/MyDrive/Project COVID-CT/data/CT_NonCOVID/1061.png', '/content/drive/MyDrive/Project COVID-CT/data/CT_NonCOVID/1214.png', '/content/drive/MyDrive/Project COVID-CT/data/CT_NonCOVID/1218.png', '/content/drive/MyDrive/Project COVID-CT/data/CT_NonCOVID/10%1.jpg', '/content/drive/MyDrive/Project COVID-CT/data/CT_NonCOVID/1124.png', '/content/drive/MyDrive/Project COVID-CT/data/CT_NonCOVID/1213.png', '/content/drive/MyDrive/Project COVID-CT/data/CT_NonCOVID/1050.png', '/content/drive/MyDrive/Project COVID-CT/data/CT_NonCOVID/10%0.jpg', '/content/drive/MyDrive/Project COVID-CT/data/CT_NonCOVID/1215.png', '/content/drive/MyDrive/Project COVID-CT/data/CT_NonCOVID/115.png', '/content/drive/MyDrive/Project COVID-CT/data/CT_NonCOVID/11%0.jpg', '/content/drive/MyDrive/Project COVID-CT/data/CT_NonCOVID/1065.png', '/content/drive/MyDrive/Project COVID-CT/data/CT_NonCOVID/1101.png', '/content/drive/MyDrive/Project COVID-CT/data/CT_NonCOVID/11%1.jpg', '/content/drive/MyDrive/Project COVID-CT/data/CT_NonCOVID/1058.png', '/content/drive/MyDrive/Project COVID-CT/data/CT_NonCOVID/1047.png', '/content/drive/MyDrive/Project COVID-CT/data/CT_NonCOVID/12.jpg', '/content/drive/MyDrive/Project COVID-CT/data/CT_NonCOVID/1070.png', '/content/drive/MyDrive/Project COVID-CT/data/CT_NonCOVID/1049.png', '/content/drive/MyDrive/Project COVID-CT/data/CT_NonCOVID/1079.png', '/content/drive/MyDrive/Project COVID-CT/data/CT_NonCOVID/10%2.jpg', '/content/drive/MyDrive/Project COVID-CT/data/CT_NonCOVID/103.png', '/content/drive/MyDrive/Project COVID-CT/data/CT_NonCOVID/1071.png', '/content/drive/MyDrive/Project COVID-CT/data/CT_NonCOVID/1210.png', '/content/drive/MyDrive/Project COVID-CT/data/CT_NonCOVID/11%2.jpg', '/content/drive/MyDrive/Project COVID-CT/data/CT_NonCOVID/1062.png', '/content/drive/MyDrive/Project COVID-CT/data/CT_NonCOVID/1%1.jpg', '/content/drive/MyDrive/Project COVID-CT/data/CT_NonCOVID/1221.png', '/content/drive/MyDrive/Project COVID-CT/data/CT_NonCOVID/14.png', '/content/drive/MyDrive/Project COVID-CT/data/CT_NonCOVID/1428.png', '/content/drive/MyDrive/Project COVID-CT/data/CT_NonCOVID/1313.png', '/content/drive/MyDrive/Project COVID-CT/data/CT_NonCOVID/1298.png', '/content/drive/MyDrive/Project COVID-CT/data/CT_NonCOVID/1262.png', '/content/drive/MyDrive/Project COVID-CT/data/CT_NonCOVID/1561.png', '/content/drive/MyDrive/Project COVID-CT/data/CT_NonCOVID/1332.png', '/content/drive/MyDrive/Project COVID-CT/data/CT_NonCOVID/1328.png', '/content/drive/MyDrive/Project COVID-CT/data/CT_NonCOVID/1307.png', '/content/drive/MyDrive/Project COVID-CT/data/CT_NonCOVID/158.png', '/content/drive/MyDrive/Project COVID-CT/data/CT_NonCOVID/1297.png', '/content/drive/MyDrive/Project COVID-CT/data/CT_NonCOVID/18%1.jpg', '/content/drive/MyDrive/Project COVID-CT/data/CT_NonCOVID/1309.png', '/content/drive/MyDrive/Project COVID-CT/data/CT_NonCOVID/171.png', '/content/drive/MyDrive/Project COVID-CT/data/CT_NonCOVID/1263.png', '/content/drive/MyDrive/Project COVID-CT/data/CT_NonCOVID/1310.png', '/content/drive/MyDrive/Project COVID-CT/data/CT_NonCOVID/1638.png', '/content/drive/MyDrive/Project COVID-CT/data/CT_NonCOVID/18%2.jpg', '/content/drive/MyDrive/Project COVID-CT/data/CT_NonCOVID/15%2.jpg', '/content/drive/MyDrive/Project COVID-CT/data/CT_NonCOVID/17%0.jpg', '/content/drive/MyDrive/Project COVID-CT/data/CT_NonCOVID/1501.png', '/content/drive/MyDrive/Project COVID-CT/data/CT_NonCOVID/1575.png', '/content/drive/MyDrive/Project COVID-CT/data/CT_NonCOVID/17%1.jpg', '/content/drive/MyDrive/Project COVID-CT/data/CT_NonCOVID/15%1.jpg', '/content/drive/MyDrive/Project COVID-CT/data/CT_NonCOVID/1577.png', '/content/drive/MyDrive/Project COVID-CT/data/CT_NonCOVID/1305.png', '/content/drive/MyDrive/Project COVID-CT/data/CT_NonCOVID/1333.png', '/content/drive/MyDrive/Project COVID-CT/data/CT_NonCOVID/15.png', '/content/drive/MyDrive/Project COVID-CT/data/CT_NonCOVID/1498.png', '/content/drive/MyDrive/Project COVID-CT/data/CT_NonCOVID/1277.png', '/content/drive/MyDrive/Project COVID-CT/data/CT_NonCOVID/1562.png', '/content/drive/MyDrive/Project COVID-CT/data/CT_NonCOVID/167.png', '/content/drive/MyDrive/Project COVID-CT/data/CT_NonCOVID/14%2.jpg', '/content/drive/MyDrive/Project COVID-CT/data/CT_NonCOVID/1336.png', '/content/drive/MyDrive/Project COVID-CT/data/CT_NonCOVID/176.png', '/content/drive/MyDrive/Project COVID-CT/data/CT_NonCOVID/1845.png', '/content/drive/MyDrive/Project COVID-CT/data/CT_NonCOVID/1239.png', '/content/drive/MyDrive/Project COVID-CT/data/CT_NonCOVID/1331.png', '/content/drive/MyDrive/Project COVID-CT/data/CT_NonCOVID/18%0.jpg', '/content/drive/MyDrive/Project COVID-CT/data/CT_NonCOVID/1497.png', '/content/drive/MyDrive/Project COVID-CT/data/CT_NonCOVID/1238.png', '/content/drive/MyDrive/Project COVID-CT/data/CT_NonCOVID/177.png', '/content/drive/MyDrive/Project COVID-CT/data/CT_NonCOVID/1702.png', '/content/drive/MyDrive/Project COVID-CT/data/CT_NonCOVID/1306.png', '/content/drive/MyDrive/Project COVID-CT/data/CT_NonCOVID/1308.png', '/content/drive/MyDrive/Project COVID-CT/data/CT_NonCOVID/13.jpg', '/content/drive/MyDrive/Project COVID-CT/data/CT_NonCOVID/1261.png', '/content/drive/MyDrive/Project COVID-CT/data/CT_NonCOVID/18%3.jpg', '/content/drive/MyDrive/Project COVID-CT/data/CT_NonCOVID/1330.png', '/content/drive/MyDrive/Project COVID-CT/data/CT_NonCOVID/1264.png', '/content/drive/MyDrive/Project COVID-CT/data/CT_NonCOVID/1240.png', '/content/drive/MyDrive/Project COVID-CT/data/CT_NonCOVID/1500.png', '/content/drive/MyDrive/Project COVID-CT/data/CT_NonCOVID/1814.png', '/content/drive/MyDrive/Project COVID-CT/data/CT_NonCOVID/1499.png', '/content/drive/MyDrive/Project COVID-CT/data/CT_NonCOVID/14%1.jpg', '/content/drive/MyDrive/Project COVID-CT/data/CT_NonCOVID/15%3.jpg', '/content/drive/MyDrive/Project COVID-CT/data/CT_NonCOVID/1312.png', '/content/drive/MyDrive/Project COVID-CT/data/CT_NonCOVID/1335.png', '/content/drive/MyDrive/Project COVID-CT/data/CT_NonCOVID/1463.png', '/content/drive/MyDrive/Project COVID-CT/data/CT_NonCOVID/166.png', '/content/drive/MyDrive/Project COVID-CT/data/CT_NonCOVID/174.png', '/content/drive/MyDrive/Project COVID-CT/data/CT_NonCOVID/1576.png', '/content/drive/MyDrive/Project COVID-CT/data/CT_NonCOVID/16.jpg', '/content/drive/MyDrive/Project COVID-CT/data/CT_NonCOVID/14%3.jpg', '/content/drive/MyDrive/Project COVID-CT/data/CT_NonCOVID/14%0.jpg', '/content/drive/MyDrive/Project COVID-CT/data/CT_NonCOVID/15%0.jpg', '/content/drive/MyDrive/Project COVID-CT/data/CT_NonCOVID/1888.png', '/content/drive/MyDrive/Project COVID-CT/data/CT_NonCOVID/294.png', '/content/drive/MyDrive/Project COVID-CT/data/CT_NonCOVID/2141.png', '/content/drive/MyDrive/Project COVID-CT/data/CT_NonCOVID/26%3.jpg', '/content/drive/MyDrive/Project COVID-CT/data/CT_NonCOVID/1921.png', '/content/drive/MyDrive/Project COVID-CT/data/CT_NonCOVID/2143.png', '/content/drive/MyDrive/Project COVID-CT/data/CT_NonCOVID/2139.png', '/content/drive/MyDrive/Project COVID-CT/data/CT_NonCOVID/2144.png', '/content/drive/MyDrive/Project COVID-CT/data/CT_NonCOVID/25%1.jpg', '/content/drive/MyDrive/Project COVID-CT/data/CT_NonCOVID/1877.png', '/content/drive/MyDrive/Project COVID-CT/data/CT_NonCOVID/2341.png', '/content/drive/MyDrive/Project COVID-CT/data/CT_NonCOVID/1858.png', '/content/drive/MyDrive/Project COVID-CT/data/CT_NonCOVID/30%2.jpg', '/content/drive/MyDrive/Project COVID-CT/data/CT_NonCOVID/29%2.jpg', '/content/drive/MyDrive/Project COVID-CT/data/CT_NonCOVID/2%3.jpg', '/content/drive/MyDrive/Project COVID-CT/data/CT_NonCOVID/26.png', '/content/drive/MyDrive/Project COVID-CT/data/CT_NonCOVID/226.png', '/content/drive/MyDrive/Project COVID-CT/data/CT_NonCOVID/19%0.jpg', '/content/drive/MyDrive/Project COVID-CT/data/CT_NonCOVID/2040.png', '/content/drive/MyDrive/Project COVID-CT/data/CT_NonCOVID/30%0.jpg', '/content/drive/MyDrive/Project COVID-CT/data/CT_NonCOVID/1922.png', '/content/drive/MyDrive/Project COVID-CT/data/CT_NonCOVID/2%1.jpg', '/content/drive/MyDrive/Project COVID-CT/data/CT_NonCOVID/2108.png', '/content/drive/MyDrive/Project COVID-CT/data/CT_NonCOVID/1919.png', '/content/drive/MyDrive/Project COVID-CT/data/CT_NonCOVID/3.jpg', '/content/drive/MyDrive/Project COVID-CT/data/CT_NonCOVID/1859.png', '/content/drive/MyDrive/Project COVID-CT/data/CT_NonCOVID/1876.png', '/content/drive/MyDrive/Project COVID-CT/data/CT_NonCOVID/2138.png', '/content/drive/MyDrive/Project COVID-CT/data/CT_NonCOVID/25%3.jpg', '/content/drive/MyDrive/Project COVID-CT/data/CT_NonCOVID/28.jpg', '/content/drive/MyDrive/Project COVID-CT/data/CT_NonCOVID/1952.png', '/content/drive/MyDrive/Project COVID-CT/data/CT_NonCOVID/26%0.jpg', '/content/drive/MyDrive/Project COVID-CT/data/CT_NonCOVID/26%1.jpg', '/content/drive/MyDrive/Project COVID-CT/data/CT_NonCOVID/23.png', '/content/drive/MyDrive/Project COVID-CT/data/CT_NonCOVID/2%0.jpg', '/content/drive/MyDrive/Project COVID-CT/data/CT_NonCOVID/2041.png', '/content/drive/MyDrive/Project COVID-CT/data/CT_NonCOVID/30%3.jpg', '/content/drive/MyDrive/Project COVID-CT/data/CT_NonCOVID/2237.png', '/content/drive/MyDrive/Project COVID-CT/data/CT_NonCOVID/227.png', '/content/drive/MyDrive/Project COVID-CT/data/CT_NonCOVID/1846.png', '/content/drive/MyDrive/Project COVID-CT/data/CT_NonCOVID/25%2.jpg', '/content/drive/MyDrive/Project COVID-CT/data/CT_NonCOVID/2039.png', '/content/drive/MyDrive/Project COVID-CT/data/CT_NonCOVID/22%1.jpg', '/content/drive/MyDrive/Project COVID-CT/data/CT_NonCOVID/2140.png', '/content/drive/MyDrive/Project COVID-CT/data/CT_NonCOVID/2007.png', '/content/drive/MyDrive/Project COVID-CT/data/CT_NonCOVID/25.png', '/content/drive/MyDrive/Project COVID-CT/data/CT_NonCOVID/30%4.jpg', '/content/drive/MyDrive/Project COVID-CT/data/CT_NonCOVID/2%2.jpg', '/content/drive/MyDrive/Project COVID-CT/data/CT_NonCOVID/1924.png', '/content/drive/MyDrive/Project COVID-CT/data/CT_NonCOVID/22%0.jpg', '/content/drive/MyDrive/Project COVID-CT/data/CT_NonCOVID/21%0.jpg', '/content/drive/MyDrive/Project COVID-CT/data/CT_NonCOVID/21%1.jpg', '/content/drive/MyDrive/Project COVID-CT/data/CT_NonCOVID/1857.png', '/content/drive/MyDrive/Project COVID-CT/data/CT_NonCOVID/1923.png', '/content/drive/MyDrive/Project COVID-CT/data/CT_NonCOVID/29%0.jpg', '/content/drive/MyDrive/Project COVID-CT/data/CT_NonCOVID/1889.png', '/content/drive/MyDrive/Project COVID-CT/data/CT_NonCOVID/2145.png', '/content/drive/MyDrive/Project COVID-CT/data/CT_NonCOVID/25%0.jpg', '/content/drive/MyDrive/Project COVID-CT/data/CT_NonCOVID/2142.png', '/content/drive/MyDrive/Project COVID-CT/data/CT_NonCOVID/29%1.jpg', '/content/drive/MyDrive/Project COVID-CT/data/CT_NonCOVID/19%1.jpg', '/content/drive/MyDrive/Project COVID-CT/data/CT_NonCOVID/29%3.jpg', '/content/drive/MyDrive/Project COVID-CT/data/CT_NonCOVID/24.png', '/content/drive/MyDrive/Project COVID-CT/data/CT_NonCOVID/1868.png', '/content/drive/MyDrive/Project COVID-CT/data/CT_NonCOVID/30%1.jpg', '/content/drive/MyDrive/Project COVID-CT/data/CT_NonCOVID/20.jpg', '/content/drive/MyDrive/Project COVID-CT/data/CT_NonCOVID/27.jpg', '/content/drive/MyDrive/Project COVID-CT/data/CT_NonCOVID/1920.png', '/content/drive/MyDrive/Project COVID-CT/data/CT_NonCOVID/26%2.jpg', '/content/drive/MyDrive/Project COVID-CT/data/CT_NonCOVID/49%0.jpg', '/content/drive/MyDrive/Project COVID-CT/data/CT_NonCOVID/4%3.jpg', '/content/drive/MyDrive/Project COVID-CT/data/CT_NonCOVID/39%4.jpg', '/content/drive/MyDrive/Project COVID-CT/data/CT_NonCOVID/413.png', '/content/drive/MyDrive/Project COVID-CT/data/CT_NonCOVID/30%5.jpg', '/content/drive/MyDrive/Project COVID-CT/data/CT_NonCOVID/38%2.jpg', '/content/drive/MyDrive/Project COVID-CT/data/CT_NonCOVID/43%1.jpg', '/content/drive/MyDrive/Project COVID-CT/data/CT_NonCOVID/39%0.jpg', '/content/drive/MyDrive/Project COVID-CT/data/CT_NonCOVID/4%7.jpg', '/content/drive/MyDrive/Project COVID-CT/data/CT_NonCOVID/36%1.jpg', '/content/drive/MyDrive/Project COVID-CT/data/CT_NonCOVID/43%2.jpg', '/content/drive/MyDrive/Project COVID-CT/data/CT_NonCOVID/39%5.jpg', '/content/drive/MyDrive/Project COVID-CT/data/CT_NonCOVID/37%1.jpg', '/content/drive/MyDrive/Project COVID-CT/data/CT_NonCOVID/414.png', '/content/drive/MyDrive/Project COVID-CT/data/CT_NonCOVID/39%6.jpg', '/content/drive/MyDrive/Project COVID-CT/data/CT_NonCOVID/32%0.jpg', '/content/drive/MyDrive/Project COVID-CT/data/CT_NonCOVID/382.png', '/content/drive/MyDrive/Project COVID-CT/data/CT_NonCOVID/5%1.jpg', '/content/drive/MyDrive/Project COVID-CT/data/CT_NonCOVID/41.jpg', '/content/drive/MyDrive/Project COVID-CT/data/CT_NonCOVID/38%0.jpg', '/content/drive/MyDrive/Project COVID-CT/data/CT_NonCOVID/486.png', '/content/drive/MyDrive/Project COVID-CT/data/CT_NonCOVID/49%1.jpg', '/content/drive/MyDrive/Project COVID-CT/data/CT_NonCOVID/33%1.jpg', '/content/drive/MyDrive/Project COVID-CT/data/CT_NonCOVID/33%0.jpg', '/content/drive/MyDrive/Project COVID-CT/data/CT_NonCOVID/37%0.jpg', '/content/drive/MyDrive/Project COVID-CT/data/CT_NonCOVID/44.png', '/content/drive/MyDrive/Project COVID-CT/data/CT_NonCOVID/4%1.jpg', '/content/drive/MyDrive/Project COVID-CT/data/CT_NonCOVID/40%0.jpg', '/content/drive/MyDrive/Project COVID-CT/data/CT_NonCOVID/4%5.jpg', '/content/drive/MyDrive/Project COVID-CT/data/CT_NonCOVID/34.jpg', '/content/drive/MyDrive/Project COVID-CT/data/CT_NonCOVID/39%8.jpg', '/content/drive/MyDrive/Project COVID-CT/data/CT_NonCOVID/361.png', '/content/drive/MyDrive/Project COVID-CT/data/CT_NonCOVID/452.png', '/content/drive/MyDrive/Project COVID-CT/data/CT_NonCOVID/378.png', '/content/drive/MyDrive/Project COVID-CT/data/CT_NonCOVID/48.jpg', '/content/drive/MyDrive/Project COVID-CT/data/CT_NonCOVID/37%2.jpg', '/content/drive/MyDrive/Project COVID-CT/data/CT_NonCOVID/39%1.jpg', '/content/drive/MyDrive/Project COVID-CT/data/CT_NonCOVID/40%1.jpg', '/content/drive/MyDrive/Project COVID-CT/data/CT_NonCOVID/35%2.jpg', '/content/drive/MyDrive/Project COVID-CT/data/CT_NonCOVID/39%7.jpg', '/content/drive/MyDrive/Project COVID-CT/data/CT_NonCOVID/47.jpg', '/content/drive/MyDrive/Project COVID-CT/data/CT_NonCOVID/36%0.jpg', '/content/drive/MyDrive/Project COVID-CT/data/CT_NonCOVID/354.png', '/content/drive/MyDrive/Project COVID-CT/data/CT_NonCOVID/487.png', '/content/drive/MyDrive/Project COVID-CT/data/CT_NonCOVID/37%3.jpg', '/content/drive/MyDrive/Project COVID-CT/data/CT_NonCOVID/35%0.jpg', '/content/drive/MyDrive/Project COVID-CT/data/CT_NonCOVID/39%2.jpg', '/content/drive/MyDrive/Project COVID-CT/data/CT_NonCOVID/32%1.jpg', '/content/drive/MyDrive/Project COVID-CT/data/CT_NonCOVID/44%1.jpg', '/content/drive/MyDrive/Project COVID-CT/data/CT_NonCOVID/46.jpg', '/content/drive/MyDrive/Project COVID-CT/data/CT_NonCOVID/44%0.jpg', '/content/drive/MyDrive/Project COVID-CT/data/CT_NonCOVID/43%3.jpg', '/content/drive/MyDrive/Project COVID-CT/data/CT_NonCOVID/38%1.jpg', '/content/drive/MyDrive/Project COVID-CT/data/CT_NonCOVID/37%4.jpg', '/content/drive/MyDrive/Project COVID-CT/data/CT_NonCOVID/385.png', '/content/drive/MyDrive/Project COVID-CT/data/CT_NonCOVID/412.png', '/content/drive/MyDrive/Project COVID-CT/data/CT_NonCOVID/45.jpg', '/content/drive/MyDrive/Project COVID-CT/data/CT_NonCOVID/383.png', '/content/drive/MyDrive/Project COVID-CT/data/CT_NonCOVID/381.png', '/content/drive/MyDrive/Project COVID-CT/data/CT_NonCOVID/33.png', '/content/drive/MyDrive/Project COVID-CT/data/CT_NonCOVID/43.png', '/content/drive/MyDrive/Project COVID-CT/data/CT_NonCOVID/42.jpg', '/content/drive/MyDrive/Project COVID-CT/data/CT_NonCOVID/5%0.jpg', '/content/drive/MyDrive/Project COVID-CT/data/CT_NonCOVID/35%1.jpg', '/content/drive/MyDrive/Project COVID-CT/data/CT_NonCOVID/39%3.jpg', '/content/drive/MyDrive/Project COVID-CT/data/CT_NonCOVID/31.jpg', '/content/drive/MyDrive/Project COVID-CT/data/CT_NonCOVID/64.jpg', '/content/drive/MyDrive/Project COVID-CT/data/CT_NonCOVID/5%5.jpg', '/content/drive/MyDrive/Project COVID-CT/data/CT_NonCOVID/54%1.jpg', '/content/drive/MyDrive/Project COVID-CT/data/CT_NonCOVID/658.png', '/content/drive/MyDrive/Project COVID-CT/data/CT_NonCOVID/577.png', '/content/drive/MyDrive/Project COVID-CT/data/CT_NonCOVID/5%7.jpg', '/content/drive/MyDrive/Project COVID-CT/data/CT_NonCOVID/62.jpg', '/content/drive/MyDrive/Project COVID-CT/data/CT_NonCOVID/6%2.jpg', '/content/drive/MyDrive/Project COVID-CT/data/CT_NonCOVID/52%1.jpg', '/content/drive/MyDrive/Project COVID-CT/data/CT_NonCOVID/6%1.jpg', '/content/drive/MyDrive/Project COVID-CT/data/CT_NonCOVID/67%1.jpg', '/content/drive/MyDrive/Project COVID-CT/data/CT_NonCOVID/661.png', '/content/drive/MyDrive/Project COVID-CT/data/CT_NonCOVID/5%3.jpg', '/content/drive/MyDrive/Project COVID-CT/data/CT_NonCOVID/6%0.jpg', '/content/drive/MyDrive/Project COVID-CT/data/CT_NonCOVID/51%1.jpg', '/content/drive/MyDrive/Project COVID-CT/data/CT_NonCOVID/580.png', '/content/drive/MyDrive/Project COVID-CT/data/CT_NonCOVID/63%5.jpg', '/content/drive/MyDrive/Project COVID-CT/data/CT_NonCOVID/60.jpg', '/content/drive/MyDrive/Project COVID-CT/data/CT_NonCOVID/65%0.jpg', '/content/drive/MyDrive/Project COVID-CT/data/CT_NonCOVID/660.png', '/content/drive/MyDrive/Project COVID-CT/data/CT_NonCOVID/67%2.jpg', '/content/drive/MyDrive/Project COVID-CT/data/CT_NonCOVID/584.png', '/content/drive/MyDrive/Project COVID-CT/data/CT_NonCOVID/63%4.jpg', '/content/drive/MyDrive/Project COVID-CT/data/CT_NonCOVID/575.png', '/content/drive/MyDrive/Project COVID-CT/data/CT_NonCOVID/592.png', '/content/drive/MyDrive/Project COVID-CT/data/CT_NonCOVID/63%6.jpg', '/content/drive/MyDrive/Project COVID-CT/data/CT_NonCOVID/585.png', '/content/drive/MyDrive/Project COVID-CT/data/CT_NonCOVID/662.png', '/content/drive/MyDrive/Project COVID-CT/data/CT_NonCOVID/590.png', '/content/drive/MyDrive/Project COVID-CT/data/CT_NonCOVID/56%0.jpg', '/content/drive/MyDrive/Project COVID-CT/data/CT_NonCOVID/672.png', '/content/drive/MyDrive/Project COVID-CT/data/CT_NonCOVID/65%3.jpg', '/content/drive/MyDrive/Project COVID-CT/data/CT_NonCOVID/68.jpg', '/content/drive/MyDrive/Project COVID-CT/data/CT_NonCOVID/591.png', '/content/drive/MyDrive/Project COVID-CT/data/CT_NonCOVID/579.png', '/content/drive/MyDrive/Project COVID-CT/data/CT_NonCOVID/69%0.jpg', '/content/drive/MyDrive/Project COVID-CT/data/CT_NonCOVID/52%0.jpg', '/content/drive/MyDrive/Project COVID-CT/data/CT_NonCOVID/5%2.jpg', '/content/drive/MyDrive/Project COVID-CT/data/CT_NonCOVID/67%0.jpg', '/content/drive/MyDrive/Project COVID-CT/data/CT_NonCOVID/586.png', '/content/drive/MyDrive/Project COVID-CT/data/CT_NonCOVID/54%2.jpg', '/content/drive/MyDrive/Project COVID-CT/data/CT_NonCOVID/56%1.jpg', '/content/drive/MyDrive/Project COVID-CT/data/CT_NonCOVID/63%1.jpg', '/content/drive/MyDrive/Project COVID-CT/data/CT_NonCOVID/663.png', '/content/drive/MyDrive/Project COVID-CT/data/CT_NonCOVID/673.png', '/content/drive/MyDrive/Project COVID-CT/data/CT_NonCOVID/59.png', '/content/drive/MyDrive/Project COVID-CT/data/CT_NonCOVID/6%3.jpg', '/content/drive/MyDrive/Project COVID-CT/data/CT_NonCOVID/51%0.jpg', '/content/drive/MyDrive/Project COVID-CT/data/CT_NonCOVID/65%2.jpg', '/content/drive/MyDrive/Project COVID-CT/data/CT_NonCOVID/51%3.jpg', '/content/drive/MyDrive/Project COVID-CT/data/CT_NonCOVID/59%0.jpg', '/content/drive/MyDrive/Project COVID-CT/data/CT_NonCOVID/576.png', '/content/drive/MyDrive/Project COVID-CT/data/CT_NonCOVID/583.png', '/content/drive/MyDrive/Project COVID-CT/data/CT_NonCOVID/53.jpg', '/content/drive/MyDrive/Project COVID-CT/data/CT_NonCOVID/65%4.jpg', '/content/drive/MyDrive/Project COVID-CT/data/CT_NonCOVID/63%2.jpg', '/content/drive/MyDrive/Project COVID-CT/data/CT_NonCOVID/63%3.jpg', '/content/drive/MyDrive/Project COVID-CT/data/CT_NonCOVID/51%2.jpg', '/content/drive/MyDrive/Project COVID-CT/data/CT_NonCOVID/65%1.jpg', '/content/drive/MyDrive/Project COVID-CT/data/CT_NonCOVID/63%0.jpg', '/content/drive/MyDrive/Project COVID-CT/data/CT_NonCOVID/5%6.jpg', '/content/drive/MyDrive/Project COVID-CT/data/CT_NonCOVID/50.jpg', '/content/drive/MyDrive/Project COVID-CT/data/CT_NonCOVID/66.jpg', '/content/drive/MyDrive/Project COVID-CT/data/CT_NonCOVID/587.png', '/content/drive/MyDrive/Project COVID-CT/data/CT_NonCOVID/54%0.jpg', '/content/drive/MyDrive/Project COVID-CT/data/CT_NonCOVID/578.png', '/content/drive/MyDrive/Project COVID-CT/data/CT_NonCOVID/63%7.jpg', '/content/drive/MyDrive/Project COVID-CT/data/CT_NonCOVID/57%0.jpg', '/content/drive/MyDrive/Project COVID-CT/data/CT_NonCOVID/5%4.jpg', '/content/drive/MyDrive/Project COVID-CT/data/CT_NonCOVID/69%1.jpg', '/content/drive/MyDrive/Project COVID-CT/data/CT_NonCOVID/54%3.jpg', '/content/drive/MyDrive/Project COVID-CT/data/CT_NonCOVID/76%2.jpg', '/content/drive/MyDrive/Project COVID-CT/data/CT_NonCOVID/70%0.jpg', '/content/drive/MyDrive/Project COVID-CT/data/CT_NonCOVID/890.png', '/content/drive/MyDrive/Project COVID-CT/data/CT_NonCOVID/78.jpg', '/content/drive/MyDrive/Project COVID-CT/data/CT_NonCOVID/8.jpg', '/content/drive/MyDrive/Project COVID-CT/data/CT_NonCOVID/73.jpg', '/content/drive/MyDrive/Project COVID-CT/data/CT_NonCOVID/704.png', '/content/drive/MyDrive/Project COVID-CT/data/CT_NonCOVID/81%2.jpg', '/content/drive/MyDrive/Project COVID-CT/data/CT_NonCOVID/83%1.jpg', '/content/drive/MyDrive/Project COVID-CT/data/CT_NonCOVID/75%1.jpg', '/content/drive/MyDrive/Project COVID-CT/data/CT_NonCOVID/81%3.jpg', '/content/drive/MyDrive/Project COVID-CT/data/CT_NonCOVID/85%1.jpg', '/content/drive/MyDrive/Project COVID-CT/data/CT_NonCOVID/77.jpg', '/content/drive/MyDrive/Project COVID-CT/data/CT_NonCOVID/80%0.jpg', '/content/drive/MyDrive/Project COVID-CT/data/CT_NonCOVID/82%3.jpg', '/content/drive/MyDrive/Project COVID-CT/data/CT_NonCOVID/75%0.jpg', '/content/drive/MyDrive/Project COVID-CT/data/CT_NonCOVID/76%0.jpg', '/content/drive/MyDrive/Project COVID-CT/data/CT_NonCOVID/83%0.jpg', '/content/drive/MyDrive/Project COVID-CT/data/CT_NonCOVID/85%0.jpg', '/content/drive/MyDrive/Project COVID-CT/data/CT_NonCOVID/89%2.jpg', '/content/drive/MyDrive/Project COVID-CT/data/CT_NonCOVID/72.jpg', '/content/drive/MyDrive/Project COVID-CT/data/CT_NonCOVID/706.png', '/content/drive/MyDrive/Project COVID-CT/data/CT_NonCOVID/79.jpg', '/content/drive/MyDrive/Project COVID-CT/data/CT_NonCOVID/81.png', '/content/drive/MyDrive/Project COVID-CT/data/CT_NonCOVID/848.png', '/content/drive/MyDrive/Project COVID-CT/data/CT_NonCOVID/7.jpg', '/content/drive/MyDrive/Project COVID-CT/data/CT_NonCOVID/83%2.jpg', '/content/drive/MyDrive/Project COVID-CT/data/CT_NonCOVID/86.jpg', '/content/drive/MyDrive/Project COVID-CT/data/CT_NonCOVID/82%0.jpg', '/content/drive/MyDrive/Project COVID-CT/data/CT_NonCOVID/84%2.jpg', '/content/drive/MyDrive/Project COVID-CT/data/CT_NonCOVID/90.jpg', '/content/drive/MyDrive/Project COVID-CT/data/CT_NonCOVID/71%1.jpg', '/content/drive/MyDrive/Project COVID-CT/data/CT_NonCOVID/83%3.jpg', '/content/drive/MyDrive/Project COVID-CT/data/CT_NonCOVID/82%2.jpg', '/content/drive/MyDrive/Project COVID-CT/data/CT_NonCOVID/9.jpg', '/content/drive/MyDrive/Project COVID-CT/data/CT_NonCOVID/84%1.jpg', '/content/drive/MyDrive/Project COVID-CT/data/CT_NonCOVID/70%1.jpg', '/content/drive/MyDrive/Project COVID-CT/data/CT_NonCOVID/921.png', '/content/drive/MyDrive/Project COVID-CT/data/CT_NonCOVID/997.png', '/content/drive/MyDrive/Project COVID-CT/data/CT_NonCOVID/887.png', '/content/drive/MyDrive/Project COVID-CT/data/CT_NonCOVID/88.jpg', '/content/drive/MyDrive/Project COVID-CT/data/CT_NonCOVID/753.png', '/content/drive/MyDrive/Project COVID-CT/data/CT_NonCOVID/709.png', '/content/drive/MyDrive/Project COVID-CT/data/CT_NonCOVID/80%1.jpg', '/content/drive/MyDrive/Project COVID-CT/data/CT_NonCOVID/82%1.jpg', '/content/drive/MyDrive/Project COVID-CT/data/CT_NonCOVID/81%1.jpg', '/content/drive/MyDrive/Project COVID-CT/data/CT_NonCOVID/89%3.jpg', '/content/drive/MyDrive/Project COVID-CT/data/CT_NonCOVID/957.png', '/content/drive/MyDrive/Project COVID-CT/data/CT_NonCOVID/84%0.jpg', '/content/drive/MyDrive/Project COVID-CT/data/CT_NonCOVID/91%1.jpg', '/content/drive/MyDrive/Project COVID-CT/data/CT_NonCOVID/889.png', '/content/drive/MyDrive/Project COVID-CT/data/CT_NonCOVID/84%3.jpg', '/content/drive/MyDrive/Project COVID-CT/data/CT_NonCOVID/956.png', '/content/drive/MyDrive/Project COVID-CT/data/CT_NonCOVID/81%0.jpg', '/content/drive/MyDrive/Project COVID-CT/data/CT_NonCOVID/782.png', '/content/drive/MyDrive/Project COVID-CT/data/CT_NonCOVID/74.jpg', '/content/drive/MyDrive/Project COVID-CT/data/CT_NonCOVID/82.png', '/content/drive/MyDrive/Project COVID-CT/data/CT_NonCOVID/71%0.jpg', '/content/drive/MyDrive/Project COVID-CT/data/CT_NonCOVID/996.png', '/content/drive/MyDrive/Project COVID-CT/data/CT_NonCOVID/91%0.jpg', '/content/drive/MyDrive/Project COVID-CT/data/CT_NonCOVID/849.png', '/content/drive/MyDrive/Project COVID-CT/data/CT_NonCOVID/969.png', '/content/drive/MyDrive/Project COVID-CT/data/CT_NonCOVID/705.png', '/content/drive/MyDrive/Project COVID-CT/data/CT_NonCOVID/754.png', '/content/drive/MyDrive/Project COVID-CT/data/CT_NonCOVID/781.png', '/content/drive/MyDrive/Project COVID-CT/data/CT_NonCOVID/76%1.jpg']\n"
          ]
        }
      ]
    },
    {
      "cell_type": "code",
      "source": [
        "# length length and image path for covid positive pics\n",
        "#CT_COVID images\n",
        "image_list_COVID_POSITIVE = []\n",
        "concat_pos = []\n",
        "for i in range(0, 349):\n",
        "  try:\n",
        "    temp = str(CT_COVID_path) + str(\"/\") + list_CT_COVID[i]\n",
        "    concat_pos.append(temp)\n",
        "    #img  = Image.open(temp)\n",
        "    image_list_COVID_POSITIVE.append(img)\n",
        "  except IOError:\n",
        "    pass\n",
        "\n",
        "print(len(image_list_COVID_POSITIVE))\n",
        "print(concat_pos)"
      ],
      "metadata": {
        "id": "Y_ppCgl51yQg",
        "colab": {
          "base_uri": "https://localhost:8080/"
        },
        "outputId": "ea2b17c4-8c93-4b2d-922e-bc6e9118e590"
      },
      "execution_count": null,
      "outputs": [
        {
          "output_type": "stream",
          "name": "stdout",
          "text": [
            "349\n",
            "['/content/drive/MyDrive/Project COVID-CT/data/CT_COVID/2020.02.22.20024927-p19-68%2.png', '/content/drive/MyDrive/Project COVID-CT/data/CT_COVID/2020.02.25.20021568-p24-111%8.png', '/content/drive/MyDrive/Project COVID-CT/data/CT_COVID/2020.03.04.20030395-p27-108%7.png', '/content/drive/MyDrive/Project COVID-CT/data/CT_COVID/2020.03.09.20033118-p20-93%2.png', '/content/drive/MyDrive/Project COVID-CT/data/CT_COVID/2020.03.12.20034686-p17-91-4.png', '/content/drive/MyDrive/Project COVID-CT/data/CT_COVID/2020.03.12.20034686-p17-91-5.png', '/content/drive/MyDrive/Project COVID-CT/data/CT_COVID/2020.03.13.20035212-p23-152.png', '/content/drive/MyDrive/Project COVID-CT/data/CT_COVID/2020.03.22.20034041-p18-92-3.png', '/content/drive/MyDrive/Project COVID-CT/data/CT_COVID/2020.03.09.20033118-p20-93%3.png', '/content/drive/MyDrive/Project COVID-CT/data/CT_COVID/2020.03.21.20040691-p18-6-6.png', '/content/drive/MyDrive/Project COVID-CT/data/CT_COVID/2020.03.12.20034686-p17-91-6.png', '/content/drive/MyDrive/Project COVID-CT/data/CT_COVID/2020.03.01.20029769-p21-73_1%0.png', '/content/drive/MyDrive/Project COVID-CT/data/CT_COVID/2020.03.04.20030395-p27-108%5.png', '/content/drive/MyDrive/Project COVID-CT/data/CT_COVID/Recurrence-of-positive-SARS-CoV-2-RNA-in-C_2020_International-Journal-of-Inf-p1-21%1.png', '/content/drive/MyDrive/Project COVID-CT/data/CT_COVID/2020.03.12.20027185-p8-217.png', '/content/drive/MyDrive/Project COVID-CT/data/CT_COVID/2020.02.26.20027938-p6-80_2%0.png', '/content/drive/MyDrive/Project COVID-CT/data/CT_COVID/2020.03.22.20034041-p18-92-2.png', '/content/drive/MyDrive/Project COVID-CT/data/CT_COVID/2020.02.17.20024018-p17-61%4.png', '/content/drive/MyDrive/Project COVID-CT/data/CT_COVID/2020.03.07.20031393-p7-50%2.png', '/content/drive/MyDrive/Project COVID-CT/data/CT_COVID/2020.03.07.20031393-p7-50%3.png', '/content/drive/MyDrive/Project COVID-CT/data/CT_COVID/2020.02.22.20024927-p19-68%0.png', '/content/drive/MyDrive/Project COVID-CT/data/CT_COVID/2020.03.09.20033118-p20-93%0.png', '/content/drive/MyDrive/Project COVID-CT/data/CT_COVID/2020.02.22.20024927-p20-70%0.png', '/content/drive/MyDrive/Project COVID-CT/data/CT_COVID/2020.03.13.20035212-p23-153.png', '/content/drive/MyDrive/Project COVID-CT/data/CT_COVID/2020.03.01.20029769-p21-73_1%1.png', '/content/drive/MyDrive/Project COVID-CT/data/CT_COVID/Recurrence-of-positive-SARS-CoV-2-RNA-in-C_2020_International-Journal-of-Inf-p1-21%0.png', '/content/drive/MyDrive/Project COVID-CT/data/CT_COVID/2020.03.07.20031393-p7-50%1.png', '/content/drive/MyDrive/Project COVID-CT/data/CT_COVID/2020.02.26.20027938-p6-80_2%1.png', '/content/drive/MyDrive/Project COVID-CT/data/CT_COVID/2020.03.22.20034041-p18-92-1.png', '/content/drive/MyDrive/Project COVID-CT/data/CT_COVID/2020.02.25.20021568-p24-111%9.png', '/content/drive/MyDrive/Project COVID-CT/data/CT_COVID/2020.03.09.20033118-p20-93%1.png', '/content/drive/MyDrive/Project COVID-CT/data/CT_COVID/2020.03.01.20029769-p21-73_1%2.png', '/content/drive/MyDrive/Project COVID-CT/data/CT_COVID/2020.03.04.20030395-p27-108%4.png', '/content/drive/MyDrive/Project COVID-CT/data/CT_COVID/2020.02.22.20024927-p19-68%3.png', '/content/drive/MyDrive/Project COVID-CT/data/CT_COVID/2020.02.10.20021584-p6-52%9.png', '/content/drive/MyDrive/Project COVID-CT/data/CT_COVID/2020.03.07.20031393-p7-50%0.png', '/content/drive/MyDrive/Project COVID-CT/data/CT_COVID/2020.02.22.20024927-p19-68%1.png', '/content/drive/MyDrive/Project COVID-CT/data/CT_COVID/2020.03.04.20030395-p27-108%6.png', '/content/drive/MyDrive/Project COVID-CT/data/CT_COVID/2020.02.22.20024927-p19-68%5.png', '/content/drive/MyDrive/Project COVID-CT/data/CT_COVID/2020.02.19.20025023-p20-93%0.png', '/content/drive/MyDrive/Project COVID-CT/data/CT_COVID/2020.02.22.20024927-p19-68%4.png', '/content/drive/MyDrive/Project COVID-CT/data/CT_COVID/2020.03.04.20030395-p27-108%2.png', '/content/drive/MyDrive/Project COVID-CT/data/CT_COVID/2020.03.12.20034686-p17-91-1.png', '/content/drive/MyDrive/Project COVID-CT/data/CT_COVID/2020.02.11.20021493-p16-109%2.png', '/content/drive/MyDrive/Project COVID-CT/data/CT_COVID/2020.02.26.20027938-p6-80_3%1.png', '/content/drive/MyDrive/Project COVID-CT/data/CT_COVID/kjr-21-e24-p5-31.png', '/content/drive/MyDrive/Project COVID-CT/data/CT_COVID/2020.03.04.20030395-p27-108%1.png', '/content/drive/MyDrive/Project COVID-CT/data/CT_COVID/2020.02.11.20021493-p16-109%0.png', '/content/drive/MyDrive/Project COVID-CT/data/CT_COVID/2020.03.21.20040691-p18-67-5.png', '/content/drive/MyDrive/Project COVID-CT/data/CT_COVID/2020.02.22.20024927-p20-70%2.png', '/content/drive/MyDrive/Project COVID-CT/data/CT_COVID/2020.02.24.20027201-p19-669.png', '/content/drive/MyDrive/Project COVID-CT/data/CT_COVID/2020.03.12.20034686-p17-91-3.png', '/content/drive/MyDrive/Project COVID-CT/data/CT_COVID/2020.03.13.20035212-p23-157.png', '/content/drive/MyDrive/Project COVID-CT/data/CT_COVID/2020.02.19.20025023-p20-93%1.png', '/content/drive/MyDrive/Project COVID-CT/data/CT_COVID/2020.03.26.20041426-p11-128.png', '/content/drive/MyDrive/Project COVID-CT/data/CT_COVID/2020.02.19.20025023-p20-93%2.png', '/content/drive/MyDrive/Project COVID-CT/data/CT_COVID/2020.02.24.20027052-p8-73%0.png', '/content/drive/MyDrive/Project COVID-CT/data/CT_COVID/2020.03.01.20029769-p21-73_4.png', '/content/drive/MyDrive/Project COVID-CT/data/CT_COVID/2020.03.18.20038125-p16-56-6.png', '/content/drive/MyDrive/Project COVID-CT/data/CT_COVID/2020.03.13.20035212-p23-156.png', '/content/drive/MyDrive/Project COVID-CT/data/CT_COVID/2020.02.17.20024018-p17-61%1.png', '/content/drive/MyDrive/Project COVID-CT/data/CT_COVID/2020.02.10.20021584-p6-52%8.png', '/content/drive/MyDrive/Project COVID-CT/data/CT_COVID/Comparison-of-different-samples-for-2019-novel-cor_2020_International-Journa-p2-21%8.png', '/content/drive/MyDrive/Project COVID-CT/data/CT_COVID/2020.03.21.20040691-p18-67-7.png', '/content/drive/MyDrive/Project COVID-CT/data/CT_COVID/PIIS0140673620303603%7.png', '/content/drive/MyDrive/Project COVID-CT/data/CT_COVID/2020.03.18.20038125-p16-56-5.png', '/content/drive/MyDrive/Project COVID-CT/data/CT_COVID/2020.02.26.20027938-p6-80_3%0.png', '/content/drive/MyDrive/Project COVID-CT/data/CT_COVID/2020.03.16.20036145-p19-128-2.png', '/content/drive/MyDrive/Project COVID-CT/data/CT_COVID/2020.03.01.20029769-p21-73_2%1.png', '/content/drive/MyDrive/Project COVID-CT/data/CT_COVID/2020.03.22.20040782-p24-1533-1.png', '/content/drive/MyDrive/Project COVID-CT/data/CT_COVID/PIIS0140673620303603%4.png', '/content/drive/MyDrive/Project COVID-CT/data/CT_COVID/2020.03.25.20043166-p17-80.png', '/content/drive/MyDrive/Project COVID-CT/data/CT_COVID/2020.03.04.20030395-p27-108%3.png', '/content/drive/MyDrive/Project COVID-CT/data/CT_COVID/2020.02.22.20024927-p20-70%1.png', '/content/drive/MyDrive/Project COVID-CT/data/CT_COVID/2020.03.22.20040782-p24-1533-3.png', '/content/drive/MyDrive/Project COVID-CT/data/CT_COVID/Comparison-of-different-samples-for-2019-novel-cor_2020_International-Journa-p2-21%9.png', '/content/drive/MyDrive/Project COVID-CT/data/CT_COVID/2020.02.17.20024018-p17-61%0.png', '/content/drive/MyDrive/Project COVID-CT/data/CT_COVID/2020.03.25.20043166-p17-81.png', '/content/drive/MyDrive/Project COVID-CT/data/CT_COVID/2020.03.18.20038125-p16-56-4.png', '/content/drive/MyDrive/Project COVID-CT/data/CT_COVID/2020.02.24.20027052-p8-73%1.png', '/content/drive/MyDrive/Project COVID-CT/data/CT_COVID/2020.02.11.20021493-p16-109%1.png', '/content/drive/MyDrive/Project COVID-CT/data/CT_COVID/2020.02.26.20026989-p34-114_1%1.png', '/content/drive/MyDrive/Project COVID-CT/data/CT_COVID/2020.03.21.20040691-p18-67-4.png', '/content/drive/MyDrive/Project COVID-CT/data/CT_COVID/med-9780198814924-chapter-17-p10-515.png', '/content/drive/MyDrive/Project COVID-CT/data/CT_COVID/PIIS0140673620303603%5.png', '/content/drive/MyDrive/Project COVID-CT/data/CT_COVID/2020.03.22.20034041-p17-80-1.png', '/content/drive/MyDrive/Project COVID-CT/data/CT_COVID/2020.02.19.20025023-p20-93%3.png', '/content/drive/MyDrive/Project COVID-CT/data/CT_COVID/2020.03.12.20027185-p8-216.png', '/content/drive/MyDrive/Project COVID-CT/data/CT_COVID/2020.02.24.20027052-p8-73%3.png', '/content/drive/MyDrive/Project COVID-CT/data/CT_COVID/2020.03.01.20029769-p21-73_2%0.png', '/content/drive/MyDrive/Project COVID-CT/data/CT_COVID/2020.02.17.20024018-p17-61%2.png', '/content/drive/MyDrive/Project COVID-CT/data/CT_COVID/2020.02.26.20027938-p6-80_1%0.png', '/content/drive/MyDrive/Project COVID-CT/data/CT_COVID/2020.03.19.20038539-p10-57.png', '/content/drive/MyDrive/Project COVID-CT/data/CT_COVID/2020.02.17.20024018-p17-61%3.png', '/content/drive/MyDrive/Project COVID-CT/data/CT_COVID/2020.03.12.20034686-p17-91-2.png', '/content/drive/MyDrive/Project COVID-CT/data/CT_COVID/2020.03.16.20036145-p19-128-3.png', '/content/drive/MyDrive/Project COVID-CT/data/CT_COVID/2020.03.22.20040782-p24-1533-2.png', '/content/drive/MyDrive/Project COVID-CT/data/CT_COVID/2020.03.04.20030395-p27-108%0.png', '/content/drive/MyDrive/Project COVID-CT/data/CT_COVID/2020.03.13.20035212-p23-154.png', '/content/drive/MyDrive/Project COVID-CT/data/CT_COVID/PIIS0140673620303603%6.png', '/content/drive/MyDrive/Project COVID-CT/data/CT_COVID/2020.03.13.20035212-p23-155.png', '/content/drive/MyDrive/Project COVID-CT/data/CT_COVID/2020.03.25.20037721-p27-174.png', '/content/drive/MyDrive/Project COVID-CT/data/CT_COVID/2020.02.26.20026989-p34-114_1%0.png', '/content/drive/MyDrive/Project COVID-CT/data/CT_COVID/2020.03.01.20029769-p21-73_2%2.png', '/content/drive/MyDrive/Project COVID-CT/data/CT_COVID/2020.02.22.20024927-p20-70%3.png', '/content/drive/MyDrive/Project COVID-CT/data/CT_COVID/2020.02.24.20027052-p8-73%2.png', '/content/drive/MyDrive/Project COVID-CT/data/CT_COVID/2020.02.26.20027938-p6-80_1%1.png', '/content/drive/MyDrive/Project COVID-CT/data/CT_COVID/2020.03.21.20040691-p18-67-1.png', '/content/drive/MyDrive/Project COVID-CT/data/CT_COVID/2020.03.08.20031658-p15-103.png', '/content/drive/MyDrive/Project COVID-CT/data/CT_COVID/2020.02.25.20021568-p23-108%4.png', '/content/drive/MyDrive/Project COVID-CT/data/CT_COVID/2020.03.18.20038125-p16-56-1.png', '/content/drive/MyDrive/Project COVID-CT/data/CT_COVID/2019-novel-Coronavirus-severe-adult-respiratory-dist_2020_International-Jour-p3-89%1.png', '/content/drive/MyDrive/Project COVID-CT/data/CT_COVID/2020.03.20.20037325-p23-123.png', '/content/drive/MyDrive/Project COVID-CT/data/CT_COVID/PIIS0140673620301549_0%0.png', '/content/drive/MyDrive/Project COVID-CT/data/CT_COVID/2020.02.25.20021568-p23-108%6.png', '/content/drive/MyDrive/Project COVID-CT/data/CT_COVID/2020.02.25.20021568-p23-108%7.png', '/content/drive/MyDrive/Project COVID-CT/data/CT_COVID/Comparison-of-different-samples-for-2019-novel-cor_2020_International-Journa-p2-21%11.png', '/content/drive/MyDrive/Project COVID-CT/data/CT_COVID/2020.03.11.20033159-p12-45%2.png', '/content/drive/MyDrive/Project COVID-CT/data/CT_COVID/2020.02.26.20026989-p34-114_2%0.png', '/content/drive/MyDrive/Project COVID-CT/data/CT_COVID/2020.03.03.20030775-p12-93%1.png', '/content/drive/MyDrive/Project COVID-CT/data/CT_COVID/2020.02.23.20026856-p17-115%4.png', '/content/drive/MyDrive/Project COVID-CT/data/CT_COVID/2020.03.18.20038125-p16-56-2.png', '/content/drive/MyDrive/Project COVID-CT/data/CT_COVID/2020.03.10.20032136-p34-118_1%0.png', '/content/drive/MyDrive/Project COVID-CT/data/CT_COVID/Comparison-of-different-samples-for-2019-novel-cor_2020_International-Journa-p2-21%1.png', '/content/drive/MyDrive/Project COVID-CT/data/CT_COVID/2020.03.03.20030775-p12-93%0.png', '/content/drive/MyDrive/Project COVID-CT/data/CT_COVID/2020.02.23.20026856-p17-115%5.png', '/content/drive/MyDrive/Project COVID-CT/data/CT_COVID/2020.03.25.20043166-p17-79.png', '/content/drive/MyDrive/Project COVID-CT/data/CT_COVID/2020.03.16.20036145-p19-128-4.png', '/content/drive/MyDrive/Project COVID-CT/data/CT_COVID/2020.03.22.20034041-p17-80-2.png', '/content/drive/MyDrive/Project COVID-CT/data/CT_COVID/PIIS0140673620301549_0%1.png', '/content/drive/MyDrive/Project COVID-CT/data/CT_COVID/Comparison-of-different-samples-for-2019-novel-cor_2020_International-Journa-p2-21%2.png', '/content/drive/MyDrive/Project COVID-CT/data/CT_COVID/Ni2020_Article_CombinationOfWesternMedicineAn-p3-10%1.png', '/content/drive/MyDrive/Project COVID-CT/data/CT_COVID/2020.03.20.20037325-p23-122.png', '/content/drive/MyDrive/Project COVID-CT/data/CT_COVID/bmj.m606.full-p4-22%2.png', '/content/drive/MyDrive/Project COVID-CT/data/CT_COVID/2020.03.22.20040782-p24-1533-4.png', '/content/drive/MyDrive/Project COVID-CT/data/CT_COVID/PIIS0140673620303603%0.png', '/content/drive/MyDrive/Project COVID-CT/data/CT_COVID/2020.03.21.20040691-p18-67-2.png', '/content/drive/MyDrive/Project COVID-CT/data/CT_COVID/2020.03.22.20040782-p24-1533-8.png', '/content/drive/MyDrive/Project COVID-CT/data/CT_COVID/2020.02.26.20026989-p34-114_2%1.png', '/content/drive/MyDrive/Project COVID-CT/data/CT_COVID/2020.03.21.20040691-p18-67-3.png', '/content/drive/MyDrive/Project COVID-CT/data/CT_COVID/2020.02.25.20021568-p23-108%8.png', '/content/drive/MyDrive/Project COVID-CT/data/CT_COVID/kjr-21-e25-p1-6.png', '/content/drive/MyDrive/Project COVID-CT/data/CT_COVID/2020.03.20.20037325-p23-121.png', '/content/drive/MyDrive/Project COVID-CT/data/CT_COVID/2020.03.22.20040782-p24-1533-5.png', '/content/drive/MyDrive/Project COVID-CT/data/CT_COVID/2020.03.18.20038125-p16-56-3.png', '/content/drive/MyDrive/Project COVID-CT/data/CT_COVID/2020.02.25.20021568-p23-108%9.png', '/content/drive/MyDrive/Project COVID-CT/data/CT_COVID/2020.03.22.20040782-p24-1533-7.png', '/content/drive/MyDrive/Project COVID-CT/data/CT_COVID/2020.03.16.20035105-p6-64-4.png', '/content/drive/MyDrive/Project COVID-CT/data/CT_COVID/2020.03.25.20037721-p27-172.png', '/content/drive/MyDrive/Project COVID-CT/data/CT_COVID/PIIS0140673620303603%1.png', '/content/drive/MyDrive/Project COVID-CT/data/CT_COVID/PIIS0140673620303603%3.png', '/content/drive/MyDrive/Project COVID-CT/data/CT_COVID/2020.03.16.20036145-p19-128-1.png', '/content/drive/MyDrive/Project COVID-CT/data/CT_COVID/2020.03.22.20040782-p25-1545.png', '/content/drive/MyDrive/Project COVID-CT/data/CT_COVID/PIIS0140673620303603%2.png', '/content/drive/MyDrive/Project COVID-CT/data/CT_COVID/bmj.m606.full-p4-22%3.png', '/content/drive/MyDrive/Project COVID-CT/data/CT_COVID/PIIS0140673620302117_2.png', '/content/drive/MyDrive/Project COVID-CT/data/CT_COVID/2020.02.27.20027557-p25-137%4.png', '/content/drive/MyDrive/Project COVID-CT/data/CT_COVID/2020.03.22.20040782-p25-1544.png', '/content/drive/MyDrive/Project COVID-CT/data/CT_COVID/impact_of_covid19_infection_on_pregnancy_outcomes_and_the_risk_of_maternaltoneonatal_intrapartum_transmission_of_covid19_during_natural_birth-p8-41%1.png', '/content/drive/MyDrive/Project COVID-CT/data/CT_COVID/2019-novel-Coronavirus-severe-adult-respiratory-dist_2020_International-Jour-p3-89%0.png', '/content/drive/MyDrive/Project COVID-CT/data/CT_COVID/2020.03.25.20037721-p27-181.png', '/content/drive/MyDrive/Project COVID-CT/data/CT_COVID/2020.03.11.20033159-p12-45%0.png', '/content/drive/MyDrive/Project COVID-CT/data/CT_COVID/2020.03.25.20037721-p27-165.png', '/content/drive/MyDrive/Project COVID-CT/data/CT_COVID/2020.03.22.20040782-p24-1533-6.png', '/content/drive/MyDrive/Project COVID-CT/data/CT_COVID/Comparison-of-different-samples-for-2019-novel-cor_2020_International-Journa-p2-21%0.png', '/content/drive/MyDrive/Project COVID-CT/data/CT_COVID/2020.03.11.20033159-p12-45%1.png', '/content/drive/MyDrive/Project COVID-CT/data/CT_COVID/2020.03.25.20043166-p17-78.png', '/content/drive/MyDrive/Project COVID-CT/data/CT_COVID/Ni2020_Article_CombinationOfWesternMedicineAn-p3-10%0.png', '/content/drive/MyDrive/Project COVID-CT/data/CT_COVID/kjr-21-e25-p1-8.png', '/content/drive/MyDrive/Project COVID-CT/data/CT_COVID/2020.03.25.20037721-p27-182.png', '/content/drive/MyDrive/Project COVID-CT/data/CT_COVID/2020.03.01.20029769-p21-73_3.png', '/content/drive/MyDrive/Project COVID-CT/data/CT_COVID/2020.03.25.20037721-p27-173.png', '/content/drive/MyDrive/Project COVID-CT/data/CT_COVID/2020.03.22.20040782-p25-1546.png', '/content/drive/MyDrive/Project COVID-CT/data/CT_COVID/bmj.m606.full-p4-22%1.png', '/content/drive/MyDrive/Project COVID-CT/data/CT_COVID/2020.02.25.20021568-p23-108%0.png', '/content/drive/MyDrive/Project COVID-CT/data/CT_COVID/2020.03.21.20040691-p18-67-8.png', '/content/drive/MyDrive/Project COVID-CT/data/CT_COVID/2020.02.11.20022053-p12-67%1.png', '/content/drive/MyDrive/Project COVID-CT/data/CT_COVID/2020.03.04.20031039-p23-97_2%1.png', '/content/drive/MyDrive/Project COVID-CT/data/CT_COVID/2020.02.28.20029025-p23-183.png', '/content/drive/MyDrive/Project COVID-CT/data/CT_COVID/2020.02.23.20026856-p17-115%3.png', '/content/drive/MyDrive/Project COVID-CT/data/CT_COVID/2020.02.24.20027201-p19-670.png', '/content/drive/MyDrive/Project COVID-CT/data/CT_COVID/2020.03.04.20031047-p12-81%0.png', '/content/drive/MyDrive/Project COVID-CT/data/CT_COVID/2020.02.25.20021568-p23-108%5.png', '/content/drive/MyDrive/Project COVID-CT/data/CT_COVID/impact_of_covid19_infection_on_pregnancy_outcomes_and_the_risk_of_maternaltoneonatal_intrapartum_transmission_of_covid19_during_natural_birth-p8-41%3.png', '/content/drive/MyDrive/Project COVID-CT/data/CT_COVID/bmj.m606.full-p4-22%7.png', '/content/drive/MyDrive/Project COVID-CT/data/CT_COVID/2020.03.10.20032136-p34-118_1%1.png', '/content/drive/MyDrive/Project COVID-CT/data/CT_COVID/2020.03.22.20040782-p25-1543.png', '/content/drive/MyDrive/Project COVID-CT/data/CT_COVID/2020.03.04.20031047-p12-81%2.png', '/content/drive/MyDrive/Project COVID-CT/data/CT_COVID/2020.03.08.20031658-p15-104.png', '/content/drive/MyDrive/Project COVID-CT/data/CT_COVID/2020.03.03.20030353-p17-106%2.png', '/content/drive/MyDrive/Project COVID-CT/data/CT_COVID/bmj.m606.full-p4-22%6.png', '/content/drive/MyDrive/Project COVID-CT/data/CT_COVID/2020.02.25.20021568-p23-108%1.png', '/content/drive/MyDrive/Project COVID-CT/data/CT_COVID/2020.03.04.20031039-p23-97_2%0.png', '/content/drive/MyDrive/Project COVID-CT/data/CT_COVID/2020.02.11.20022053-p12-67%0.png', '/content/drive/MyDrive/Project COVID-CT/data/CT_COVID/2020.03.11.20033159-p12-45%3.png', '/content/drive/MyDrive/Project COVID-CT/data/CT_COVID/Talaromyces-marneffei-infection-relapse-presenting-as-ost_2020_International-p1-12%2.png', '/content/drive/MyDrive/Project COVID-CT/data/CT_COVID/2020.03.22.20040782-p25-1542.png', '/content/drive/MyDrive/Project COVID-CT/data/CT_COVID/Talaromyces-marneffei-infection-relapse-presenting-as-ost_2020_International-p1-12%3.png', '/content/drive/MyDrive/Project COVID-CT/data/CT_COVID/impact_of_covid19_infection_on_pregnancy_outcomes_and_the_risk_of_maternaltoneonatal_intrapartum_transmission_of_covid19_during_natural_birth-p8-41%5.png', '/content/drive/MyDrive/Project COVID-CT/data/CT_COVID/bmj.m606.full-p4-22%4.png', '/content/drive/MyDrive/Project COVID-CT/data/CT_COVID/2020.03.03.20030353-p17-106%1.png', '/content/drive/MyDrive/Project COVID-CT/data/CT_COVID/Talaromyces-marneffei-infection-relapse-presenting-as-ost_2020_International-p1-12%0.png', '/content/drive/MyDrive/Project COVID-CT/data/CT_COVID/2020.02.11.20022053-p12-67%3.png', '/content/drive/MyDrive/Project COVID-CT/data/CT_COVID/2020.03.11.20033159-p12-45%4.png', '/content/drive/MyDrive/Project COVID-CT/data/CT_COVID/2020.02.28.20029025-p23-182.png', '/content/drive/MyDrive/Project COVID-CT/data/CT_COVID/2020.03.08.20031658-p15-105.png', '/content/drive/MyDrive/Project COVID-CT/data/CT_COVID/Comparison-of-different-samples-for-2019-novel-cor_2020_International-Journa-p2-21%7.png', '/content/drive/MyDrive/Project COVID-CT/data/CT_COVID/2020.02.27.20027557-p25-137%1.png', '/content/drive/MyDrive/Project COVID-CT/data/CT_COVID/PIIS0140673620303603%8.png', '/content/drive/MyDrive/Project COVID-CT/data/CT_COVID/2020.03.04.20031039-p23-97_2%2.png', '/content/drive/MyDrive/Project COVID-CT/data/CT_COVID/Comparison-of-different-samples-for-2019-novel-cor_2020_International-Journa-p2-21%10.png', '/content/drive/MyDrive/Project COVID-CT/data/CT_COVID/2020.03.12.20027185-p8-218.png', '/content/drive/MyDrive/Project COVID-CT/data/CT_COVID/Ni2020_Article_CombinationOfWesternMedicineAn-p4-13%0.png', '/content/drive/MyDrive/Project COVID-CT/data/CT_COVID/2020.02.25.20021568-p23-108%3.png', '/content/drive/MyDrive/Project COVID-CT/data/CT_COVID/2020.02.25.20021568-p23-108%2.png', '/content/drive/MyDrive/Project COVID-CT/data/CT_COVID/2020.03.04.20031047-p12-81%3.png', '/content/drive/MyDrive/Project COVID-CT/data/CT_COVID/2020.02.27.20027557-p25-137%0.png', '/content/drive/MyDrive/Project COVID-CT/data/CT_COVID/PIIS0140673620302117_1.png', '/content/drive/MyDrive/Project COVID-CT/data/CT_COVID/2020.02.11.20022053-p12-67%2.png', '/content/drive/MyDrive/Project COVID-CT/data/CT_COVID/kjr-21-e24-p3-16.png', '/content/drive/MyDrive/Project COVID-CT/data/CT_COVID/Comparison-of-different-samples-for-2019-novel-cor_2020_International-Journa-p2-21%5.png', '/content/drive/MyDrive/Project COVID-CT/data/CT_COVID/2020.02.23.20026856-p17-115%2.png', '/content/drive/MyDrive/Project COVID-CT/data/CT_COVID/ehaa254-p0-63%3.png', '/content/drive/MyDrive/Project COVID-CT/data/CT_COVID/2020.03.20.20037325-p23-124.png', '/content/drive/MyDrive/Project COVID-CT/data/CT_COVID/Comparison-of-different-samples-for-2019-novel-cor_2020_International-Journa-p2-21%6.png', '/content/drive/MyDrive/Project COVID-CT/data/CT_COVID/2020.02.27.20027557-p25-137%3.png', '/content/drive/MyDrive/Project COVID-CT/data/CT_COVID/Comparison-of-different-samples-for-2019-novel-cor_2020_International-Journa-p2-21%3.png', '/content/drive/MyDrive/Project COVID-CT/data/CT_COVID/2020.03.08.20031658-p15-106.png', '/content/drive/MyDrive/Project COVID-CT/data/CT_COVID/bmj.m606.full-p4-22%0.png', '/content/drive/MyDrive/Project COVID-CT/data/CT_COVID/2020.03.11.20033159-p12-45%5.png', '/content/drive/MyDrive/Project COVID-CT/data/CT_COVID/2020.03.03.20030353-p17-106%0.png', '/content/drive/MyDrive/Project COVID-CT/data/CT_COVID/ehaa254-p0-63%2.png', '/content/drive/MyDrive/Project COVID-CT/data/CT_COVID/2020.03.04.20031047-p12-81%1.png', '/content/drive/MyDrive/Project COVID-CT/data/CT_COVID/Ni2020_Article_CombinationOfWesternMedicineAn-p4-13%1.png', '/content/drive/MyDrive/Project COVID-CT/data/CT_COVID/2020.02.23.20026856-p17-115%1.png', '/content/drive/MyDrive/Project COVID-CT/data/CT_COVID/2020.03.16.20035105-p6-64-3.png', '/content/drive/MyDrive/Project COVID-CT/data/CT_COVID/2020.03.16.20035105-p6-64-1.png', '/content/drive/MyDrive/Project COVID-CT/data/CT_COVID/2020.03.16.20035105-p6-64-2.png', '/content/drive/MyDrive/Project COVID-CT/data/CT_COVID/2020.03.22.20034041-p16-66.png', '/content/drive/MyDrive/Project COVID-CT/data/CT_COVID/Comparison-of-different-samples-for-2019-novel-cor_2020_International-Journa-p2-21%4.png', '/content/drive/MyDrive/Project COVID-CT/data/CT_COVID/2020.03.22.20040782-p25-1541.png', '/content/drive/MyDrive/Project COVID-CT/data/CT_COVID/bmj.m606.full-p4-22%5.png', '/content/drive/MyDrive/Project COVID-CT/data/CT_COVID/2020.02.27.20027557-p25-137%2.png', '/content/drive/MyDrive/Project COVID-CT/data/CT_COVID/Talaromyces-marneffei-infection-relapse-presenting-as-ost_2020_International-p1-12%1.png', '/content/drive/MyDrive/Project COVID-CT/data/CT_COVID/2020.02.23.20026856-p17-115%0.png', '/content/drive/MyDrive/Project COVID-CT/data/CT_COVID/2020.03.04.20026005-p12-1946%1.png', '/content/drive/MyDrive/Project COVID-CT/data/CT_COVID/2020.02.10.20021584-p6-52%0.png', '/content/drive/MyDrive/Project COVID-CT/data/CT_COVID/2020.03.26.20041426-p11-131.png', '/content/drive/MyDrive/Project COVID-CT/data/CT_COVID/2020.03.04.20026005-p12-1946%0.png', '/content/drive/MyDrive/Project COVID-CT/data/CT_COVID/2020.02.25.20021568-p23-108%10.png', '/content/drive/MyDrive/Project COVID-CT/data/CT_COVID/2020.02.25.20021568-p23-108%11.png', '/content/drive/MyDrive/Project COVID-CT/data/CT_COVID/2020.03.26.20041426-p11-130.png', '/content/drive/MyDrive/Project COVID-CT/data/CT_COVID/2020.01.24.919183-p27-135.png', '/content/drive/MyDrive/Project COVID-CT/data/CT_COVID/2020.03.10.20032136-p34-118_2%0.png', '/content/drive/MyDrive/Project COVID-CT/data/CT_COVID/2020.03.13.20035212-p23-158.png', '/content/drive/MyDrive/Project COVID-CT/data/CT_COVID/2020.03.19.20038539-p10-59.png', '/content/drive/MyDrive/Project COVID-CT/data/CT_COVID/2020.02.10.20021584-p6-52%7.png', '/content/drive/MyDrive/Project COVID-CT/data/CT_COVID/kjr-21-e24-p5-29.png', '/content/drive/MyDrive/Project COVID-CT/data/CT_COVID/2020.02.25.20021568-p24-111%3.png', '/content/drive/MyDrive/Project COVID-CT/data/CT_COVID/2020.02.25.20021568-p24-111%7.png', '/content/drive/MyDrive/Project COVID-CT/data/CT_COVID/2020.02.25.20021568-p24-111%0.png', '/content/drive/MyDrive/Project COVID-CT/data/CT_COVID/2020.03.13.20035212-p23-159.png', '/content/drive/MyDrive/Project COVID-CT/data/CT_COVID/2020.02.25.20021568-p24-111%6.png', '/content/drive/MyDrive/Project COVID-CT/data/CT_COVID/2020.02.25.20021568-p24-111%1.png', '/content/drive/MyDrive/Project COVID-CT/data/CT_COVID/2020.03.03.20030775-p11-91.png', '/content/drive/MyDrive/Project COVID-CT/data/CT_COVID/2020.01.24.919183-p27-132.png', '/content/drive/MyDrive/Project COVID-CT/data/CT_COVID/2020.03.04.20026005-p12-1946%3.png', '/content/drive/MyDrive/Project COVID-CT/data/CT_COVID/2020.03.04.20030395-p27-108%8.png', '/content/drive/MyDrive/Project COVID-CT/data/CT_COVID/2020.03.26.20041426-p11-121.png', '/content/drive/MyDrive/Project COVID-CT/data/CT_COVID/kjr-21-e24-p2-8.png', '/content/drive/MyDrive/Project COVID-CT/data/CT_COVID/2020.02.10.20021584-p6-52%5.png', '/content/drive/MyDrive/Project COVID-CT/data/CT_COVID/2020.02.10.20021584-p6-52%4.png', '/content/drive/MyDrive/Project COVID-CT/data/CT_COVID/2020.01.24.919183-p27-133.png', '/content/drive/MyDrive/Project COVID-CT/data/CT_COVID/2020.02.10.20021584-p6-52%15.png', '/content/drive/MyDrive/Project COVID-CT/data/CT_COVID/2020.02.22.20024927-p18-66%2.png', '/content/drive/MyDrive/Project COVID-CT/data/CT_COVID/2020.03.26.20041426-p11-124.png', '/content/drive/MyDrive/Project COVID-CT/data/CT_COVID/2020.03.03.20030775-p10-88%1.png', '/content/drive/MyDrive/Project COVID-CT/data/CT_COVID/2020.03.30.20047985-p9-56%1.png', '/content/drive/MyDrive/Project COVID-CT/data/CT_COVID/2020.03.03.20030775-p10-88%0.png', '/content/drive/MyDrive/Project COVID-CT/data/CT_COVID/2020.02.13.20022673-p13-77%0.png', '/content/drive/MyDrive/Project COVID-CT/data/CT_COVID/2020.03.26.20041426-p11-132.png', '/content/drive/MyDrive/Project COVID-CT/data/CT_COVID/2020.03.13.20035212-p23-161.png', '/content/drive/MyDrive/Project COVID-CT/data/CT_COVID/2020.02.10.20021584-p6-52%13.png', '/content/drive/MyDrive/Project COVID-CT/data/CT_COVID/2020.02.10.20021584-p6-52%12.png', '/content/drive/MyDrive/Project COVID-CT/data/CT_COVID/2020.03.26.20041426-p11-125.png', '/content/drive/MyDrive/Project COVID-CT/data/CT_COVID/2020.03.19.20038539-p10-62.png', '/content/drive/MyDrive/Project COVID-CT/data/CT_COVID/2020.02.25.20021568-p24-111%2.png', '/content/drive/MyDrive/Project COVID-CT/data/CT_COVID/PIIS0140673620301549_2.png', '/content/drive/MyDrive/Project COVID-CT/data/CT_COVID/2020.03.18.20038125-p15-54-2.png', '/content/drive/MyDrive/Project COVID-CT/data/CT_COVID/2020.02.10.20021584-p6-52%6.png', '/content/drive/MyDrive/Project COVID-CT/data/CT_COVID/2020.03.04.20031047-p13-84%0.png', '/content/drive/MyDrive/Project COVID-CT/data/CT_COVID/2020.03.04.20031047-p13-84%1.png', '/content/drive/MyDrive/Project COVID-CT/data/CT_COVID/2020.02.25.20027763-p15-53%0.png', '/content/drive/MyDrive/Project COVID-CT/data/CT_COVID/kjr-21-e25-p1-12.png', '/content/drive/MyDrive/Project COVID-CT/data/CT_COVID/2020.03.04.20031047-p13-84%2.png', '/content/drive/MyDrive/Project COVID-CT/data/CT_COVID/2020.03.04.20031039-p23-97_1%2.png', '/content/drive/MyDrive/Project COVID-CT/data/CT_COVID/2020.03.26.20041426-p11-126.png', '/content/drive/MyDrive/Project COVID-CT/data/CT_COVID/2020.03.10.20032136-p34-118_2%1.png', '/content/drive/MyDrive/Project COVID-CT/data/CT_COVID/2020.03.26.20041426-p11-119.png', '/content/drive/MyDrive/Project COVID-CT/data/CT_COVID/2020.03.18.20038125-p15-54-6.png', '/content/drive/MyDrive/Project COVID-CT/data/CT_COVID/2020.03.26.20041426-p11-133.png', '/content/drive/MyDrive/Project COVID-CT/data/CT_COVID/2020.03.19.20038539-p10-58.png', '/content/drive/MyDrive/Project COVID-CT/data/CT_COVID/2020.01.24.919183-p27-134.png', '/content/drive/MyDrive/Project COVID-CT/data/CT_COVID/2020.03.04.20031047-p13-84%3.png', '/content/drive/MyDrive/Project COVID-CT/data/CT_COVID/2020.03.26.20041426-p11-127.png', '/content/drive/MyDrive/Project COVID-CT/data/CT_COVID/2020.03.04.20031047-p14-87%0.png', '/content/drive/MyDrive/Project COVID-CT/data/CT_COVID/2020.02.25.20021568-p23-108%15.png', '/content/drive/MyDrive/Project COVID-CT/data/CT_COVID/2020.03.13.20035212-p23-160.png', '/content/drive/MyDrive/Project COVID-CT/data/CT_COVID/2020.02.10.20021584-p6-52%14.png', '/content/drive/MyDrive/Project COVID-CT/data/CT_COVID/2019-novel-Coronavirus-severe-adult-respiratory-dist_2020_International-Jour-p3-91.png', '/content/drive/MyDrive/Project COVID-CT/data/CT_COVID/kjr-21-e25-p1-10.png', '/content/drive/MyDrive/Project COVID-CT/data/CT_COVID/2020.02.25.20021568-p23-108%14.png', '/content/drive/MyDrive/Project COVID-CT/data/CT_COVID/2020.03.04.20026005-p12-1946%2.png', '/content/drive/MyDrive/Project COVID-CT/data/CT_COVID/2020.03.19.20038539-p10-60.png', '/content/drive/MyDrive/Project COVID-CT/data/CT_COVID/2020.02.10.20021584-p6-52%11.png', '/content/drive/MyDrive/Project COVID-CT/data/CT_COVID/2020.03.04.20031047-p13-84%4.png', '/content/drive/MyDrive/Project COVID-CT/data/CT_COVID/2020.03.04.20026005-p12-1946%5.png', '/content/drive/MyDrive/Project COVID-CT/data/CT_COVID/2020.03.13.20035212-p23-162.png', '/content/drive/MyDrive/Project COVID-CT/data/CT_COVID/2020.03.26.20041426-p11-123.png', '/content/drive/MyDrive/Project COVID-CT/data/CT_COVID/2020.03.13.20035212-p23-163.png', '/content/drive/MyDrive/Project COVID-CT/data/CT_COVID/2020.03.18.20038125-p15-54-5.png', '/content/drive/MyDrive/Project COVID-CT/data/CT_COVID/2020.02.25.20021568-p23-108%13.png', '/content/drive/MyDrive/Project COVID-CT/data/CT_COVID/2020.03.04.20031039-p23-97_1%0.png', '/content/drive/MyDrive/Project COVID-CT/data/CT_COVID/2020.03.04.20031047-p14-87%1.png', '/content/drive/MyDrive/Project COVID-CT/data/CT_COVID/2020.02.25.20021568-p24-111%5.png', '/content/drive/MyDrive/Project COVID-CT/data/CT_COVID/2020.03.30.20047985-p9-56%0.png', '/content/drive/MyDrive/Project COVID-CT/data/CT_COVID/2020.03.18.20038125-p15-54-4.png', '/content/drive/MyDrive/Project COVID-CT/data/CT_COVID/2020.03.04.20031047-p13-84%5.png', '/content/drive/MyDrive/Project COVID-CT/data/CT_COVID/2020.02.25.20021568-p23-108%12.png', '/content/drive/MyDrive/Project COVID-CT/data/CT_COVID/kjr-21-e25-p1-14.png', '/content/drive/MyDrive/Project COVID-CT/data/CT_COVID/2020.02.10.20021584-p6-52%3.png', '/content/drive/MyDrive/Project COVID-CT/data/CT_COVID/2020.02.22.20024927-p18-66%1.png', '/content/drive/MyDrive/Project COVID-CT/data/CT_COVID/2020.02.10.20021584-p6-52%2.png', '/content/drive/MyDrive/Project COVID-CT/data/CT_COVID/2020.03.04.20026005-p12-1946%4.png', '/content/drive/MyDrive/Project COVID-CT/data/CT_COVID/PIIS0140673620301549_1.png', '/content/drive/MyDrive/Project COVID-CT/data/CT_COVID/2020.02.22.20024927-p18-66%0.png', '/content/drive/MyDrive/Project COVID-CT/data/CT_COVID/2020.03.30.20047985-p9-56%3.png', '/content/drive/MyDrive/Project COVID-CT/data/CT_COVID/2020.03.04.20031039-p23-97_1%1.png', '/content/drive/MyDrive/Project COVID-CT/data/CT_COVID/2020.03.30.20047985-p9-56%2.png', '/content/drive/MyDrive/Project COVID-CT/data/CT_COVID/2020.03.26.20041426-p11-122.png', '/content/drive/MyDrive/Project COVID-CT/data/CT_COVID/2020.03.26.20041426-p11-120.png', '/content/drive/MyDrive/Project COVID-CT/data/CT_COVID/2020.02.25.20021568-p24-111%4.png', '/content/drive/MyDrive/Project COVID-CT/data/CT_COVID/2020.02.10.20021584-p6-52%10.png', '/content/drive/MyDrive/Project COVID-CT/data/CT_COVID/2020.02.25.20027763-p15-53%1.png', '/content/drive/MyDrive/Project COVID-CT/data/CT_COVID/2020.02.13.20022673-p13-77%1.png', '/content/drive/MyDrive/Project COVID-CT/data/CT_COVID/2020.03.19.20038539-p10-61.png', '/content/drive/MyDrive/Project COVID-CT/data/CT_COVID/2020.02.13.20022673-p13-77%2.png', '/content/drive/MyDrive/Project COVID-CT/data/CT_COVID/2020.02.10.20021584-p6-52%1.png', '/content/drive/MyDrive/Project COVID-CT/data/CT_COVID/2020.03.12.20027185-p8-221.png']\n"
          ]
        }
      ]
    },
    {
      "cell_type": "code",
      "source": [
        "hyperparameter = .345 #multiplier for the median pixel matrix size can't go past .4 or else there will be ram issues the bigger the size the slower it is\n",
        "size = (round(410 * hyperparameter), round(290 * hyperparameter))\n",
        "size"
      ],
      "metadata": {
        "id": "9Dcrv2114S9o",
        "colab": {
          "base_uri": "https://localhost:8080/"
        },
        "outputId": "c25debff-d855-4dd5-d03b-fa7109169914"
      },
      "execution_count": null,
      "outputs": [
        {
          "output_type": "execute_result",
          "data": {
            "text/plain": [
              "(135, 96)"
            ]
          },
          "metadata": {},
          "execution_count": 11
        }
      ]
    },
    {
      "cell_type": "code",
      "source": [
        "for i in range(len(concat_neg)):\n",
        "  gray = cv2.imread(concat_neg[i],0)\n",
        "  if i == 0:\n",
        "    neg = cv2.resize(gray, dsize = size, interpolation=cv2.INTER_CUBIC).reshape(-1,1)\n",
        "  else:\n",
        "    neg2 = cv2.resize(gray, dsize = size, interpolation=cv2.INTER_CUBIC).reshape(-1,1)\n",
        "    neg = np.concatenate((neg, neg2), axis = 1)\n",
        "\n",
        "neg"
      ],
      "metadata": {
        "id": "TyBk88meB-n6",
        "colab": {
          "base_uri": "https://localhost:8080/"
        },
        "outputId": "b18c8929-1ab2-45d9-fce1-0453396c77c8"
      },
      "execution_count": null,
      "outputs": [
        {
          "output_type": "execute_result",
          "data": {
            "text/plain": [
              "array([[  1,   0,   1, ...,   0,   0,  64],\n",
              "       [  1,   0,   1, ...,   0,   0,  64],\n",
              "       [  1,   0,   1, ...,   0,   0,  64],\n",
              "       ...,\n",
              "       [  1,   0,   3, ...,   0,   1, 153],\n",
              "       [  1,   0,   3, ...,   0,   1,  16],\n",
              "       [  1,   0,   0, ...,   0,   1,   0]], dtype=uint8)"
            ]
          },
          "metadata": {},
          "execution_count": 12
        }
      ]
    },
    {
      "cell_type": "code",
      "source": [
        "for i in range(len(concat_pos)):\n",
        "  gray = cv2.imread(concat_pos[i],0)\n",
        "  if i == 0:\n",
        "    pos = cv2.resize(gray, dsize = size, interpolation=cv2.INTER_CUBIC).reshape(-1,1)\n",
        "  else:\n",
        "    pos2 = cv2.resize(gray, dsize = size, interpolation=cv2.INTER_CUBIC).reshape(-1,1)\n",
        "    pos = np.concatenate((pos, pos2), axis = 1)\n",
        "\n",
        "pos"
      ],
      "metadata": {
        "id": "kVs4KIqACAGW",
        "colab": {
          "base_uri": "https://localhost:8080/"
        },
        "outputId": "43eec00d-e126-43bf-8fc2-9fb42f7d97c0"
      },
      "execution_count": null,
      "outputs": [
        {
          "output_type": "execute_result",
          "data": {
            "text/plain": [
              "array([[255,   3, 255, ..., 255, 252,   8],\n",
              "       [255,   2, 255, ..., 255, 251,  17],\n",
              "       [255,   1, 255, ..., 255, 255,   2],\n",
              "       ...,\n",
              "       [196, 176, 217, ..., 255, 251,  56],\n",
              "       [197, 205, 228, ..., 255, 255,  64],\n",
              "       [196, 217, 241, ..., 255, 252,  86]], dtype=uint8)"
            ]
          },
          "metadata": {},
          "execution_count": 13
        }
      ]
    },
    {
      "cell_type": "code",
      "source": [
        "#run code before this cell ~Collin\n",
        "negmean = np.mean(neg, axis = 1)\n",
        "posmean = np.mean(pos, axis = 1)\n",
        "\n",
        "whole = np.concatenate((neg, pos), axis = 1)\n",
        "cov = np.cov(whole)\n",
        "negprod = negmean.T @ np.linalg.inv(cov) @ negmean\n",
        "posprod = posmean.T @ np.linalg.inv(cov) @ posmean\n",
        "lis = []\n",
        "\n",
        "#unoptimized for positive ct\n",
        "\n",
        "for i in range(pos1.shape[1] - 1):\n",
        "  if 2*(posmean - negmean).T @ np.linalg.inv(np.cov(whole)) @ pos[:,i].T + negmean.T @ np.linalg.inv(np.cov(whole)) @ negmean - posmean.T @ np.linalg.inv(np.cov(whole)) @ posmean + 2 * np.log(pos_train.shape[1]/neg_train.shape[1]) > 0:\n",
        "    lis.append(1)\n",
        "  else:\n",
        "    lis.append(0)\n",
        "\n",
        "sum(lis)/len(lis)"
      ],
      "metadata": {
        "id": "rL4K9BRvqR0H"
      },
      "execution_count": null,
      "outputs": []
    },
    {
      "cell_type": "code",
      "source": [
        "#unoptimized for negative ct\n",
        "\n",
        "lis = []\n",
        "for i in range(neg1.shape[1] - 1):\n",
        "  if 2*(posmean - negmean).T @ np.linalg.inv(np.cov(whole)) @ neg[:,i].T + negmean.T @ np.linalg.inv(np.cov(whole)) @ negmean - posmean.T @ np.linalg.inv(np.cov(whole)) @ posmean + 2 * np.log(pos_train.shape[1]/neg_train.shape[1]) < 0:\n",
        "    lis.append(1)\n",
        "  else:\n",
        "    lis.append(0)\n",
        "\n",
        "sum(lis)/len(lis)"
      ],
      "metadata": {
        "id": "RGgsF6SxqR8C"
      },
      "execution_count": null,
      "outputs": []
    },
    {
      "cell_type": "code",
      "source": [
        "#optimized\n",
        "cov = np.cov(whole) #covariance matrix is symmetrical\n",
        "l = np.linalg.cholesky(cov) #lower triangular matrix, cholesky decomposition for covariance\n",
        "\n",
        "negchol = solve_triangular(l, negmean, lower=True) #triangular solve for lower triangular matrix for covariance and negative means\n",
        "negopt = negchol.T @ negchol #optimized code\n",
        "poschol = solve_triangular(l, posmean, lower=True) #triangular solve for lower triangular matrix for covariance and positive means\n",
        "posopt = poschol.T @ poschol #optimized code\n"
      ],
      "metadata": {
        "id": "z3qxFohYqSCD"
      },
      "execution_count": null,
      "outputs": []
    },
    {
      "cell_type": "code",
      "source": [
        "#for parallel computing I think this might have to be in the function\n",
        "\n",
        "pos_train, pos_test = train_test_split( pos.T, test_size=0.2, shuffle=True) #split train/test data\n",
        "\n",
        "pos_train = pos_train.T #279 postive case training\n",
        "\n",
        "pos_test = pos_test.T #70 positive case testing\n",
        "\n",
        "neg_train, neg_test = train_test_split(neg.T, test_size=0.2, shuffle=True)\n",
        "\n",
        "neg_train = neg_train.T #317 negative case training\n",
        "\n",
        "neg_test = neg_test.T #80 negative case testing\n",
        "\n",
        "\n",
        "pos_test #shows positive test"
      ],
      "metadata": {
        "id": "N0RZ1nLdlIhW"
      },
      "execution_count": null,
      "outputs": []
    },
    {
      "cell_type": "code",
      "source": [
        "#LDA Collin run this one for LDA\n",
        "\n",
        "negmean = np.mean(neg_train, axis = 1) #mean for negative cases\n",
        "posmean = np.mean(pos_train, axis = 1) #mean for positive cases\n",
        "whole = np.concatenate((neg_train, pos_train), axis = 1) #combines the training data into one big array\n",
        "cov = np.cov(whole) #covariance of the training data for LDA\n",
        "\n",
        "reg_param = 0.1 * np.trace(cov) / cov.shape[0] #Regularization allows to use a bigger sample size for better accuracy\n",
        "covreg = cov + reg_param * np.identity(cov.shape[0]) #regularized covariance\n",
        "\n",
        "#rewritten formula for optimization\n",
        "l = np.linalg.cholesky(covreg) #Cholesky decomposition for covariance\n",
        "# negmean.T @ np.linalg.inv(np.cov(whole)) @ negmean\n",
        "\n",
        "negchol = solve_triangular(l, negmean, lower=True) #optimized cholesky decomposition\n",
        "negopt = negchol.T @ negchol #optimized cholesky decomposition for negative mean part for LDA\n",
        "poschol = solve_triangular(l, posmean, lower=True) #optimized cholesky decomposition\n",
        "posopt = poschol.T @ poschol #optimized cholesky decomposition for positive mean part for LDA"
      ],
      "metadata": {
        "id": "r5FqNa63lQ0y"
      },
      "execution_count": null,
      "outputs": []
    },
    {
      "cell_type": "code",
      "source": [
        "TP = []\n",
        "for i in range(pos_test.shape[1]): #loops through all positive testing data\n",
        "  front = 2*(posmean - negmean) @ solve_triangular(l.T,solve_triangular(l, pos_test[:,i], lower = True), lower = False)\n",
        "  if front + negopt - posopt + 2 * np.log(pos_train.shape[1]/neg_train.shape[1]) > 0: #LDA formula optimized\n",
        "    TP.append(1)\n",
        "  else:\n",
        "    TP.append(0)\n",
        "np.mean(TP) #True positive for LDA"
      ],
      "metadata": {
        "id": "KykzaPkLlaU5"
      },
      "execution_count": null,
      "outputs": []
    },
    {
      "cell_type": "code",
      "source": [
        "TN = []\n",
        "for i in range(neg_test.shape[1]): #loops through all negative testing data\n",
        "  front = 2*(posmean - negmean) @ solve_triangular(l.T,solve_triangular(l, neg_test[:,i], lower = True), lower = False)\n",
        "  if front + negopt - posopt + 2 * np.log(pos_train.shape[1]/neg_train.shape[1]) < 0: #LDA formula optimized\n",
        "    TN.append(1)\n",
        "  else:\n",
        "    TN.append(0)\n",
        "np.mean(TN) #True negative for LDA"
      ],
      "metadata": {
        "id": "d_Yp0hbslcgO"
      },
      "execution_count": null,
      "outputs": []
    },
    {
      "cell_type": "code",
      "source": [
        "np.mean(TP + TN) #total acuracy rate"
      ],
      "metadata": {
        "id": "06o_AAF6le7J"
      },
      "execution_count": null,
      "outputs": []
    },
    {
      "cell_type": "code",
      "source": [
        "#QDA Collin run this one for QDA\n",
        "\n",
        "negmean = np.mean(neg_train, axis = 1) #mean for negative training data\n",
        "posmean = np.mean(pos_train, axis = 1) #mean for positive training data\n",
        "\n",
        "poscov = np.cov(pos_train) #covariance for positive training data\n",
        "negcov = np.cov(neg_train) #covariance for negative training data\n",
        "\n",
        "reg_param = 0.1 * np.trace(poscov) / poscov.shape[0] #regularizing parameter\n",
        "poscovreg = poscov + reg_param * np.identity(poscov.shape[0]) #regularizing positive covariance to allow for a bigger pixal matrix\n",
        "reg_param = 0.1 * np.trace(negcov) / negcov.shape[0]\n",
        "negcovreg = negcov + reg_param * np.identity(negcov.shape[0]) #regularizing negative covariance to allow for a bigger pixal matrix\n",
        "\n",
        "pL = np.linalg.cholesky(poscovreg) #cholesky decomposition on the positive regularized covariance\n",
        "nL = np.linalg.cholesky(negcovreg) #cholesky decomposition on the negative regularized covariance\n",
        "\n",
        "lead = np.sum(2*np.log(np.diag(nL))) - np.sum(2*np.log(np.diag(pL))) + 2 * np.log(pos_train.shape[1]/neg_train.shape[1]) #log of negative determinant/positive determinant"
      ],
      "metadata": {
        "id": "FE_bNdIE2u4h"
      },
      "execution_count": null,
      "outputs": []
    },
    {
      "cell_type": "code",
      "source": [
        "TP = []\n",
        "for i in range(pos_test.shape[1]): #loops through all positive testing data\n",
        "  posopt = solve_triangular(pL, pos_test[:,i] - posmean, lower=True) #optimized way to solve for inverse\n",
        "  poseq = posopt.T @ posopt #faster way to solve equation\n",
        "  negopt = solve_triangular(nL, pos_test[:,i] - negmean, lower=True) #optimized way to solve for inverse\n",
        "  negeq = negopt.T @ negopt #faster way to solve equation\n",
        "  if lead - poseq + negeq > 0: #classify\n",
        "    TP.append(1)\n",
        "  else:\n",
        "    TP.append(0)\n",
        "\n",
        "np.mean(TP) #True positive for QDA"
      ],
      "metadata": {
        "id": "IdXDG6_k3NOT"
      },
      "execution_count": null,
      "outputs": []
    },
    {
      "cell_type": "code",
      "source": [
        "TN = []\n",
        "for i in range(neg_test.shape[1]): #loops through all negative testing data\n",
        "  posopt = solve_triangular(pL, neg_test[:,i] - posmean, lower=True) #optimized way to solve for inverse\n",
        "  poseq = posopt.T @ posopt #faster way to solve equation\n",
        "  negopt = solve_triangular(nL, neg_test[:,i] - negmean, lower=True) #faster way to solve equation\n",
        "  negeq = negopt.T @ negopt #faster way to solve equation\n",
        "  if lead - poseq + negeq < 0: #classify\n",
        "    TN.append(1)\n",
        "  else:\n",
        "    TN.append(0)\n",
        "\n",
        "np.mean(TN) #True negative for QDA"
      ],
      "metadata": {
        "id": "5sY5yB6e3Pyj"
      },
      "execution_count": null,
      "outputs": []
    },
    {
      "cell_type": "code",
      "source": [
        "np.mean(TP + TN) #Accuracy rate for QDA"
      ],
      "metadata": {
        "id": "cRlzXGww3SMI"
      },
      "execution_count": null,
      "outputs": []
    },
    {
      "cell_type": "code",
      "source": [
        "#below is the code for LDA with parallel computing\n",
        "#under that is the code for QDA with parallel computing"
      ],
      "metadata": {
        "id": "QEzhv2l4saGZ"
      },
      "execution_count": null,
      "outputs": []
    },
    {
      "cell_type": "code",
      "source": [
        "#LDA Collin run this one for LDA\n",
        "#parallel computing\n",
        "import multiprocessing as mp\n",
        "from multiprocessing import Pool\n",
        "from multiprocessing import Process\n",
        "import time\n",
        "start = time.time()\n",
        "\n",
        "TP_avg = [] #5\n",
        "TN_avg = [] #5\n",
        "TP_TN_avg = [] #5\n",
        "\n",
        "for a in range(0,5):\n",
        "  pos_train, pos_test = train_test_split( pos.T, test_size=0.2, shuffle=True) #split train/test data\n",
        "\n",
        "  pos_train = pos_train.T #682 x 279 postive case training\n",
        "\n",
        "  pos_test = pos_test.T #682 x 70 positive case testing\n",
        "\n",
        "  #pos1.shape #682 x 349\n",
        "\n",
        "  neg_train, neg_test = train_test_split(neg.T, test_size=0.2, shuffle=True)\n",
        "\n",
        "  neg_train = neg_train.T #682 x 317 negative case training\n",
        "\n",
        "  neg_test = neg_test.T #682 x 80 negative case testing\n",
        "\n",
        "  #neg1.shape #682 x 397\n",
        "\n",
        "  pos_test #shows positive test\n",
        "\n",
        "  def LDA_math(n):\n",
        "    global TP_avg\n",
        "    global TN_avg\n",
        "    global TP_TN_avg\n",
        "    global neg_train\n",
        "    global pos_train\n",
        "    global neg_test\n",
        "    global pos_test\n",
        "\n",
        "    negmean = np.mean(neg_train, axis = 1) #mean for negative cases\n",
        "    posmean = np.mean(pos_train, axis = 1) #mean for positive cases\n",
        "    whole = np.concatenate((neg_train, pos_train), axis = 1) #combines the training data into one big array\n",
        "    cov = np.cov(whole) #covariance of the training data for LDA\n",
        "\n",
        "    reg_param = 0.1 * np.trace(cov) / cov.shape[0] #Regularization allows to use a bigger sample size for better accuracy\n",
        "    covreg = cov + reg_param * np.identity(cov.shape[0]) #regularized covariance\n",
        "\n",
        "    #rewritten formula for optimization\n",
        "    l = np.linalg.cholesky(covreg) #Cholesky decomposition for covariance\n",
        "    # negmean.T @ np.linalg.inv(np.cov(whole)) @ negmean\n",
        "\n",
        "    negchol = solve_triangular(l, negmean, lower=True) #optimized cholesky decomposition\n",
        "    negopt = negchol.T @ negchol #optimized cholesky decomposition for negative mean part for LDA\n",
        "    poschol = solve_triangular(l, posmean, lower=True) #optimized cholesky decomposition\n",
        "    posopt = poschol.T @ poschol #optimized cholesky decomposition for positive mean part for LDA\n",
        "\n",
        "    #TP, TN, TP_TN computation\n",
        "    TP = []\n",
        "    for i in range(pos_test.shape[1]): #loops through all positive testing data\n",
        "      front = 2*(posmean - negmean) @ solve_triangular(l.T,solve_triangular(l, pos_test[:,i], lower = True), lower = False)\n",
        "      if front + negopt - posopt + 2 * np.log(pos_train.shape[1]/neg_train.shape[1]) > 0: #LDA formula optimized\n",
        "        TP.append(1)\n",
        "      else:\n",
        "        TP.append(0)\n",
        "    TP_avg = np.mean(TP) #True positive for LDA\n",
        "\n",
        "    TN = []\n",
        "    for i in range(neg_test.shape[1]): #loops through all negative testing data\n",
        "      front = 2*(posmean - negmean) @ solve_triangular(l.T,solve_triangular(l, neg_test[:,i], lower = True), lower = False)\n",
        "      if front + negopt - posopt + 2 * np.log(pos_train.shape[1]/neg_train.shape[1]) < 0: #LDA formula optimized\n",
        "        TN.append(1)\n",
        "      else:\n",
        "        TN.append(0)\n",
        "    TN_avg = np.mean(TN) #True negative for LDA\n",
        "\n",
        "    total = np.mean(TP + TN) #total acuracy rate\n",
        "    TP_TN_avg = total\n",
        "\n",
        "    return(TP_avg,TN_avg,TP_TN_avg)\n",
        "\n",
        "  if __name__=='__main__':\n",
        "      pool = Pool(processes=4)\n",
        "      n = '2' #input value not used, just need something to fill.\n",
        "      result = pool.map(LDA_math, n)\n",
        "      pool.close()\n",
        "      #print(result)\n",
        "      TP_avg.append(result[0][0])\n",
        "      TN_avg.append(result[0][1])\n",
        "      TP_TN_avg.append(result[0][2])\n",
        "\n",
        "\n",
        "end = time.time()\n",
        "print(end-start)\n",
        "print(TP_avg)\n",
        "print(TN_avg)\n",
        "print(TP_TN_avg)\n",
        "#last output lambda: 0.1\n",
        "#[0.6285714285714286, 0.6, 0.5285714285714286, 0.6142857142857143, 0.6]\n",
        "#[0.7625, 0.775, 0.7875, 0.7625, 0.7375]\n",
        "#[0.7, 0.6933333333333334, 0.6666666666666666, 0.6933333333333334, 0.6733333333333333]\n",
        "#true pos mean: 0.5942857142857143\n",
        "#true neg mean: 0.765\n",
        "#total accuracy mean: 0.6853333333333333\n",
        "#true pos var: 0.0011918367346938775\n",
        "#true neg var: 0.0002749999999999995\n",
        "#total accuracy var: 0.00016711111111111126\n",
        "#9 min 37 seconds\n",
        "TP_mean = np.mean(TP_avg)\n",
        "TN_mean = np.mean(TN_avg)\n",
        "TP_TN_mean = np.mean(TP_TN_avg)\n",
        "TP_var = np.var(TP_avg)\n",
        "TN_var = np.var(TN_avg)\n",
        "TP_TN_var = np.var(TP_TN_avg)\n",
        "print(\"true pos mean: \" + str(TP_mean))\n",
        "print(\"true neg mean: \" + str(TN_mean))\n",
        "print(\"total accuracy mean: \" + str(TP_TN_mean))\n",
        "print(\"true pos var: \" + str(TP_var))\n",
        "print(\"true neg var: \" + str(TN_var))\n",
        "print(\"total accuracy var: \" + str(TP_TN_var))"
      ],
      "metadata": {
        "id": "kPM-I8QHue_U"
      },
      "execution_count": null,
      "outputs": []
    },
    {
      "cell_type": "code",
      "source": [
        "#boxplot LDA\n",
        "import matplotlib.pyplot as plt\n",
        "import numpy as np\n",
        "\n",
        "my_dict = {'True positive': TP_avg, 'True negative': TN_avg, 'Total Accuracy': TP_TN_avg}\n",
        "plt.boxplot(my_dict.values(), labels=my_dict.keys());\n",
        "plt.ylabel('Accuracy')\n",
        "plt.title('LDA Boxplot')"
      ],
      "metadata": {
        "id": "i54PCQs7eI-m"
      },
      "execution_count": null,
      "outputs": []
    },
    {
      "cell_type": "code",
      "source": [
        "TN = []\n",
        "negativepred = []\n",
        "for i in range(neg_test.shape[1]): #loops through all testing data\n",
        "  front = 2*(posmean - negmean) @ solve_triangular(l.T,solve_triangular(l, neg_test[:,i], lower = True), lower = False) #use cholesky to speed up compuation by inverse by lower and upper triangular solve\n",
        "  if front + negopt - posopt + 2 * np.log(349/397) < 0: #combining all values\n",
        "    TN.append(1) #1 if correct guess\n",
        "    negativepred.append(0)\n",
        "  else:\n",
        "    TN.append(0) #0 if wrong\n",
        "    negativepred.append(1)\n",
        "np.mean(TN) #true negative rate for LDA"
      ],
      "metadata": {
        "id": "JHU2z2KAbLmT"
      },
      "execution_count": null,
      "outputs": []
    },
    {
      "cell_type": "code",
      "source": [
        "ypred = np.concatenate((TP, negativepred)) # LDA ROC CURVE\n",
        "ytest = np.concatenate((np.ones(len(TP)), np.zeros(len(negativepred))))\n",
        "from sklearn.metrics import roc_curve, auc\n",
        "import matplotlib.pyplot as plt\n",
        "\n",
        "fpr, tpr, thresholds = roc_curve(ytest, ypred)\n",
        "roc_auc = auc(fpr, tpr)\n",
        "\n",
        "plt.figure()\n",
        "plt.plot(fpr, tpr, color='darkorange', lw=2, label='ROC curve (area = %0.2f)' % roc_auc)\n",
        "plt.plot([0, 1], [0, 1], color='navy', lw=2, linestyle='--')\n",
        "plt.xlim([0.0, 1.0])\n",
        "plt.ylim([0.0, 1.05])\n",
        "plt.xlabel('False Positive Rate')\n",
        "plt.ylabel('True Positive Rate')\n",
        "plt.title('LDA ROC Curve')\n",
        "plt.legend(loc=\"lower right\")\n",
        "plt.show()"
      ],
      "metadata": {
        "id": "9XDLVNAKGYQk"
      },
      "execution_count": null,
      "outputs": []
    },
    {
      "cell_type": "code",
      "source": [
        "#QDA Collin run this one for QDA\n",
        "#parallel computing\n",
        "import multiprocessing as mp\n",
        "from multiprocessing import Pool\n",
        "from multiprocessing import Process\n",
        "import time\n",
        "start = time.time()\n",
        "\n",
        "TP_avg = [] #5\n",
        "TN_avg = [] #5\n",
        "TP_TN_avg = [] #5\n",
        "\n",
        "for a in range(0,5):\n",
        "  pos_train, pos_test = train_test_split( pos.T, test_size=0.2, shuffle=True) #split train/test data\n",
        "\n",
        "  pos_train = pos_train.T #682 x 279 postive case training\n",
        "\n",
        "  pos_test = pos_test.T #682 x 70 positive case testing\n",
        "\n",
        "  #pos1.shape #682 x 349\n",
        "\n",
        "  neg_train, neg_test = train_test_split(neg.T, test_size=0.2, shuffle=True)\n",
        "\n",
        "  neg_train = neg_train.T #682 x 317 negative case training\n",
        "\n",
        "  neg_test = neg_test.T #682 x 80 negative case testing\n",
        "\n",
        "  #neg1.shape #682 x 397\n",
        "\n",
        "  #print(pos_test) #shows positive test\n",
        "\n",
        "  def QDA_math(n):\n",
        "    global TP_avg\n",
        "    global TN_avg\n",
        "    global TP_TN_avg\n",
        "    global neg_train\n",
        "    global pos_train\n",
        "    global neg_test\n",
        "    global pos_test\n",
        "    negmean = np.mean(neg_train, axis = 1) #mean for negative training data\n",
        "    posmean = np.mean(pos_train, axis = 1) #mean for positive training data\n",
        "\n",
        "    poscov = np.cov(pos_train) #covariance for positive training data\n",
        "    negcov = np.cov(neg_train) #covariance for negative training data\n",
        "\n",
        "    reg_param = 0.1 * np.trace(poscov) / poscov.shape[0] #regularizing parameter\n",
        "    poscovreg = poscov + reg_param * np.identity(poscov.shape[0]) #regularizing positive covariance to allow for a bigger pixal matrix\n",
        "    reg_param = 0.1 * np.trace(negcov) / negcov.shape[0]\n",
        "    negcovreg = negcov + reg_param * np.identity(negcov.shape[0]) #regularizing negative covariance to allow for a bigger pixal matrix\n",
        "\n",
        "    pL = np.linalg.cholesky(poscovreg) #cholesky decomposition on the positive regularized covariance\n",
        "    nL = np.linalg.cholesky(negcovreg) #cholesky decomposition on the negative regularized covariance\n",
        "\n",
        "    lead = np.sum(2*np.log(np.diag(nL))) - np.sum(2*np.log(np.diag(pL))) + 2 * np.log(pos_train.shape[1]/neg_train.shape[1]) #log of negative determinant/positive determinant\n",
        "\n",
        "    #TP, TN, TP_TN computation\n",
        "    TP = []\n",
        "    for i in range(pos_test.shape[1]): #loops through all positive training data\n",
        "      posopt = solve_triangular(pL, pos_test[:,i] - posmean, lower=True) #optimized way to solve for inverse\n",
        "      poseq = posopt.T @ posopt #faster way to solve equation\n",
        "      negopt = solve_triangular(nL, pos_test[:,i] - negmean, lower=True) #optimized way to solve for inverse\n",
        "      negeq = negopt.T @ negopt #faster way to solve equation\n",
        "      if lead - poseq + negeq > 0: #classify\n",
        "        TP.append(1)\n",
        "      else:\n",
        "        TP.append(0)\n",
        "    TP_avg = np.mean(TP) #True positive for QDA\n",
        "    #print(TP_avg)\n",
        "\n",
        "\n",
        "    TN = []\n",
        "    for i in range(neg_test.shape[1]): #loops through all negative training data\n",
        "      posopt = solve_triangular(pL, neg_test[:,i] - posmean, lower=True) #optimized way to solve for inverse\n",
        "      poseq = posopt.T @ posopt #faster way to solve equation\n",
        "      negopt = solve_triangular(nL, neg_test[:,i] - negmean, lower=True) #faster way to solve equation\n",
        "      negeq = negopt.T @ negopt #faster way to solve equation\n",
        "      if lead - poseq + negeq < 0: #classify\n",
        "        TN.append(1)\n",
        "      else:\n",
        "        TN.append(0)\n",
        "\n",
        "    TN_avg = np.mean(TN) #True negative for QDA\n",
        "    #print(TN_avg)\n",
        "\n",
        "    total = np.mean(TP + TN) #Accuracy rate for QDA\n",
        "    TP_TN_avg = total\n",
        "    #print(TP_TN_avg)\n",
        "\n",
        "    #comp = [sublist, np.mean(TN), total]\n",
        "    #return comp\n",
        "    return(TP_avg,TN_avg,TP_TN_avg)\n",
        "\n",
        "  if __name__=='__main__':\n",
        "      pool = Pool(processes=4)\n",
        "      n = '2' #input value not used, just need something to fill.\n",
        "      result = pool.map(QDA_math, n)\n",
        "      pool.close()\n",
        "      #print(result)\n",
        "      TP_avg.append(result[0][0])\n",
        "      TN_avg.append(result[0][1])\n",
        "      TP_TN_avg.append(result[0][2])\n",
        "\n",
        "\n",
        "end = time.time()\n",
        "print(end-start)\n",
        "print(TP_avg)\n",
        "print(TN_avg)\n",
        "print(TP_TN_avg)\n",
        "#last output lambda: 0.1\n",
        "#[0.8, 0.7714285714285715, 0.8571428571428571, 0.8142857142857143, 0.7714285714285715]\n",
        "#[0.775, 0.8, 0.775, 0.7875, 0.6625]\n",
        "#[0.7866666666666666, 0.7866666666666666, 0.8133333333333334, 0.8, 0.7133333333333334]\n",
        "#true pos mean: 0.8028571428571428\n",
        "#true neg mean: 0.76\n",
        "#total accuracy mean: 0.78\n",
        "#true pos var: 0.0010122448979591819\n",
        "#true neg var: 0.0024625000000000016\n",
        "#total accuracy var: 0.0012088888888888883\n",
        "#12 min 4 seconds\n",
        "TP_mean = np.mean(TP_avg)\n",
        "TN_mean = np.mean(TN_avg)\n",
        "TP_TN_mean = np.mean(TP_TN_avg)\n",
        "TP_var = np.var(TP_avg)\n",
        "TN_var = np.var(TN_avg)\n",
        "TP_TN_var = np.var(TP_TN_avg)\n",
        "print(\"true pos mean: \" + str(TP_mean))\n",
        "print(\"true neg mean: \" + str(TN_mean))\n",
        "print(\"total accuracy mean: \" + str(TP_TN_mean))\n",
        "print(\"true pos var: \" + str(TP_var))\n",
        "print(\"true neg var: \" + str(TN_var))\n",
        "print(\"total accuracy var: \" + str(TP_TN_var))"
      ],
      "metadata": {
        "id": "DqnG1g_iukUL"
      },
      "execution_count": null,
      "outputs": []
    },
    {
      "cell_type": "code",
      "source": [
        "#boxplot QDA\n",
        "import matplotlib.pyplot as plt\n",
        "import numpy as np\n",
        "\n",
        "my_dict = {'True positive': TP_avg, 'True negative': TN_avg, 'Total Accuracy': TP_TN_avg}\n",
        "plt.boxplot(my_dict.values(), labels=my_dict.keys());\n",
        "\n",
        "plt.ylabel('Accuracy')\n",
        "plt.title('QDA Boxplot')"
      ],
      "metadata": {
        "id": "vUBSLBOLeQMZ"
      },
      "execution_count": null,
      "outputs": []
    },
    {
      "cell_type": "code",
      "source": [
        "TN = []\n",
        "negativepred = []\n",
        "for i in range(neg_test.shape[1]): #loops through the testing data\n",
        "  posopt = solve_triangular(pL, neg_test[:,i] - posmean, lower=True) #optimized inverse part for formula with lower triangular solve\n",
        "  poseq = posopt.T @ posopt #Since the inverses are just the transposed of the other I can solve for one and multiply itself transposed\n",
        "  negopt = solve_triangular(nL, neg_test[:,i] - negmean, lower=True) #optimized inverse part for formula with lower triangular solve\n",
        "  negeq = negopt.T @ negopt #Since the inverses are just the transposed of the other I can solve for one and multiply itself transposed\n",
        "  if lead - poseq + negeq < 0:\n",
        "    TN.append(1) #correct guess\n",
        "    negativepred.append(0)\n",
        "  else:\n",
        "    TN.append(0) #incorrect guess\n",
        "    negativepred.append(1)\n",
        "\n",
        "np.mean(TN) #True negative rate for QDA"
      ],
      "metadata": {
        "id": "8-9mncPxapxh"
      },
      "execution_count": null,
      "outputs": []
    },
    {
      "cell_type": "code",
      "source": [
        "ypred = np.concatenate((TP, negativepred)) # QDA ROC Curve\n",
        "ytest = np.concatenate((np.ones(len(TP)), np.zeros(len(negative))))\n",
        "from sklearn.metrics import roc_curve, auc\n",
        "import matplotlib.pyplot as plt\n",
        "\n",
        "fpr, tpr, thresholds = roc_curve(ytest, ypred)\n",
        "roc_auc = auc(fpr, tpr)\n",
        "\n",
        "plt.figure()\n",
        "plt.plot(fpr, tpr, color='darkorange', lw=2, label='ROC curve (area = %0.2f)' % roc_auc)\n",
        "plt.plot([0, 1], [0, 1], color='navy', lw=2, linestyle='--')\n",
        "plt.xlim([0.0, 1.0])\n",
        "plt.ylim([0.0, 1.05])\n",
        "plt.xlabel('False Positive Rate')\n",
        "plt.ylabel('True Positive Rate')\n",
        "plt.title('QDA ROC Curve')\n",
        "plt.legend(loc=\"lower right\")\n",
        "plt.show()"
      ],
      "metadata": {
        "id": "1nHZMWsgGm9c"
      },
      "execution_count": null,
      "outputs": []
    },
    {
      "cell_type": "code",
      "source": [
        "TN = []\n",
        "negativepred = []\n",
        "for i in range(neg_test.shape[1]): #loops through all testing data\n",
        "  front = 2*(posmean - negmean) @ solve_triangular(l.T,solve_triangular(l, neg_test[:,i], lower = True), lower = False) #use cholesky to speed up compuation by inverse by lower and upper triangular solve\n",
        "  if front + negopt - posopt + 2 * np.log(349/397) < 0: #combining all values\n",
        "    TN.append(1) #1 if correct guess\n",
        "    negativepred.append(0)\n",
        "  else:\n",
        "    TN.append(0) #0 if wrong\n",
        "    negativepred.append(1)\n",
        "np.mean(TN) #true negative rate for LDA"
      ],
      "metadata": {
        "id": "y_meBJ0YarvE"
      },
      "execution_count": null,
      "outputs": []
    },
    {
      "cell_type": "code",
      "source": [
        "pos_label = np.ones(pos_train.shape[1]) #1 for logisitc regression\n",
        "neg_label = np.zeros(neg_train.shape[1]) #0 for logistic regression\n",
        "testing = np.concatenate((pos_test, neg_test), axis = 1).T\n",
        "from sklearn.linear_model import LogisticRegression\n",
        "logistic = LogisticRegression()\n",
        "truepos = np.ones(pos_test.shape[1])\n",
        "trueneg = np.zeros(neg_test.shape[1])\n",
        "Ytest = np.concatenate((truepos, trueneg))\n",
        "Ytest\n",
        "\n",
        "truepos = np.ones(pos_test.shape[1])\n",
        "trueneg = np.zeros(neg_test.shape[1])\n",
        "Ytest = np.concatenate((truepos, trueneg))\n",
        "Ytest\n",
        "\n",
        "combine = np.concatenate((pos_train, neg_train), axis = 1).T\n",
        "label = np.concatenate((pos_label, neg_label))\n",
        "\n",
        "logistic.fit(combine, label)\n",
        "logisticpred = logistic.predict(testing)\n",
        "\n",
        "print(sum(logisticpred == Ytest )/(Ytest.shape[0])) #Total Accuracy rate\n",
        "\n",
        "print(sum(logisticpred[:pos_test.shape[1]] == Ytest[:pos_test.shape[1]])/ pos_test.shape[1]) #true positive\n",
        "\n",
        "print(sum(logisticpred[pos_test.shape[1]:] == Ytest[pos_test.shape[1]:])/ neg_test.shape[1]) #true negative\n"
      ],
      "metadata": {
        "id": "lay0vjyNfW_E",
        "colab": {
          "base_uri": "https://localhost:8080/",
          "height": 240
        },
        "outputId": "338b1166-8fcb-48c2-8f6e-885ba063b60f"
      },
      "execution_count": null,
      "outputs": [
        {
          "output_type": "error",
          "ename": "NameError",
          "evalue": "ignored",
          "traceback": [
            "\u001b[0;31m---------------------------------------------------------------------------\u001b[0m",
            "\u001b[0;31mNameError\u001b[0m                                 Traceback (most recent call last)",
            "\u001b[0;32m<ipython-input-1-4dcb8186d40e>\u001b[0m in \u001b[0;36m<module>\u001b[0;34m\u001b[0m\n\u001b[0;32m----> 1\u001b[0;31m \u001b[0mpos_label\u001b[0m \u001b[0;34m=\u001b[0m \u001b[0mnp\u001b[0m\u001b[0;34m.\u001b[0m\u001b[0mones\u001b[0m\u001b[0;34m(\u001b[0m\u001b[0mpos_train\u001b[0m\u001b[0;34m.\u001b[0m\u001b[0mshape\u001b[0m\u001b[0;34m[\u001b[0m\u001b[0;36m1\u001b[0m\u001b[0;34m]\u001b[0m\u001b[0;34m)\u001b[0m \u001b[0;31m#1 for logisitc regression\u001b[0m\u001b[0;34m\u001b[0m\u001b[0;34m\u001b[0m\u001b[0m\n\u001b[0m\u001b[1;32m      2\u001b[0m \u001b[0mneg_label\u001b[0m \u001b[0;34m=\u001b[0m \u001b[0mnp\u001b[0m\u001b[0;34m.\u001b[0m\u001b[0mzeros\u001b[0m\u001b[0;34m(\u001b[0m\u001b[0mneg_train\u001b[0m\u001b[0;34m.\u001b[0m\u001b[0mshape\u001b[0m\u001b[0;34m[\u001b[0m\u001b[0;36m1\u001b[0m\u001b[0;34m]\u001b[0m\u001b[0;34m)\u001b[0m \u001b[0;31m#0 for logistic regression\u001b[0m\u001b[0;34m\u001b[0m\u001b[0;34m\u001b[0m\u001b[0m\n\u001b[1;32m      3\u001b[0m \u001b[0mtesting\u001b[0m \u001b[0;34m=\u001b[0m \u001b[0mnp\u001b[0m\u001b[0;34m.\u001b[0m\u001b[0mconcatenate\u001b[0m\u001b[0;34m(\u001b[0m\u001b[0;34m(\u001b[0m\u001b[0mpos_test\u001b[0m\u001b[0;34m,\u001b[0m \u001b[0mneg_test\u001b[0m\u001b[0;34m)\u001b[0m\u001b[0;34m,\u001b[0m \u001b[0maxis\u001b[0m \u001b[0;34m=\u001b[0m \u001b[0;36m1\u001b[0m\u001b[0;34m)\u001b[0m\u001b[0;34m.\u001b[0m\u001b[0mT\u001b[0m\u001b[0;34m\u001b[0m\u001b[0;34m\u001b[0m\u001b[0m\n\u001b[1;32m      4\u001b[0m \u001b[0;32mfrom\u001b[0m \u001b[0msklearn\u001b[0m\u001b[0;34m.\u001b[0m\u001b[0mlinear_model\u001b[0m \u001b[0;32mimport\u001b[0m \u001b[0mLogisticRegression\u001b[0m\u001b[0;34m\u001b[0m\u001b[0;34m\u001b[0m\u001b[0m\n\u001b[1;32m      5\u001b[0m \u001b[0mlogistic\u001b[0m \u001b[0;34m=\u001b[0m \u001b[0mLogisticRegression\u001b[0m\u001b[0;34m(\u001b[0m\u001b[0;34m)\u001b[0m\u001b[0;34m\u001b[0m\u001b[0;34m\u001b[0m\u001b[0m\n",
            "\u001b[0;31mNameError\u001b[0m: name 'np' is not defined"
          ]
        }
      ]
    },
    {
      "cell_type": "code",
      "source": [
        "from sklearn.metrics import roc_curve, auc\n",
        "import matplotlib.pyplot as plt\n",
        "\n",
        "fpr, tpr, thresholds = roc_curve(Ytest, logisticpred)\n",
        "roc_auc = auc(fpr, tpr)\n",
        "\n",
        "plt.figure()\n",
        "plt.plot(fpr, tpr, color='darkorange', lw=2, label='ROC curve (area = %0.2f)' % roc_auc)\n",
        "plt.plot([0, 1], [0, 1], color='navy', lw=2, linestyle='--')\n",
        "plt.xlim([0.0, 1.0])\n",
        "plt.ylim([0.0, 1.05])\n",
        "plt.xlabel('False Positive Rate')\n",
        "plt.ylabel('True Positive Rate')\n",
        "plt.title('Logistic ROC Curve')\n",
        "plt.legend(loc=\"lower right\")\n",
        "plt.show()"
      ],
      "metadata": {
        "id": "qK8-wiH5bZQS"
      },
      "execution_count": null,
      "outputs": []
    },
    {
      "cell_type": "code",
      "source": [
        "#logistic packages\n",
        "#parallel computing\n",
        "import multiprocessing as mp\n",
        "from multiprocessing import Pool\n",
        "from multiprocessing import Process\n",
        "import time\n",
        "start = time.time()\n",
        "\n",
        "TP_avg = [] #5\n",
        "TN_avg = [] #5\n",
        "TP_TN_avg = [] #5\n",
        "\n",
        "for a in range(0,100):\n",
        "  pos_train, pos_test = train_test_split( pos.T, test_size=0.2, shuffle=True) #split train/test data\n",
        "\n",
        "  pos_train = pos_train.T #682 x 279 postive case training\n",
        "\n",
        "  pos_test = pos_test.T #682 x 70 positive case testing\n",
        "\n",
        "  #pos1.shape #682 x 349\n",
        "\n",
        "  neg_train, neg_test = train_test_split(neg.T, test_size=0.2, shuffle=True)\n",
        "\n",
        "  neg_train = neg_train.T #682 x 317 negative case training\n",
        "\n",
        "  neg_test = neg_test.T #682 x 80 negative case testing\n",
        "\n",
        "  #neg1.shape #682 x 397\n",
        "\n",
        "  #print(pos_test) #shows positive test\n",
        "\n",
        "  def logistic(n):\n",
        "    global TP_avg\n",
        "    global TN_avg\n",
        "    global TP_TN_avg\n",
        "    global neg_train\n",
        "    global pos_train\n",
        "    global neg_test\n",
        "    global pos_test\n",
        "\n",
        "    pos_label = np.ones(pos_train.shape[1]) #1 for logisitc regression\n",
        "    neg_label = np.zeros(neg_train.shape[1]) #0 for logistic regression\n",
        "    testing = np.concatenate((pos_test, neg_test), axis = 1).T\n",
        "    from sklearn.linear_model import LogisticRegression\n",
        "    logistic = LogisticRegression()\n",
        "    truepos = np.ones(pos_test.shape[1])\n",
        "    trueneg = np.zeros(neg_test.shape[1])\n",
        "    Ytest = np.concatenate((truepos, trueneg))\n",
        "    Ytest\n",
        "\n",
        "    truepos = np.ones(pos_test.shape[1])\n",
        "    trueneg = np.zeros(neg_test.shape[1])\n",
        "    Ytest = np.concatenate((truepos, trueneg))\n",
        "    Ytest\n",
        "\n",
        "    combine = np.concatenate((pos_train, neg_train), axis = 1).T\n",
        "    label = np.concatenate((pos_label, neg_label))\n",
        "\n",
        "    logistic.fit(combine, label)\n",
        "    logisticpred = logistic.predict(testing)\n",
        "\n",
        "    #print(sum(logisticpred[:pos_test.shape[1]] == Ytest[:pos_test.shape[1]])/ pos_test.shape[1]) #true positive\n",
        "    true_pos = (sum(logisticpred[:pos_test.shape[1]] == Ytest[:pos_test.shape[1]])/ pos_test.shape[1])\n",
        "\n",
        "    #print(sum(logisticpred[pos_test.shape[1]:] == Ytest[pos_test.shape[1]:])/ neg_test.shape[1]) #true negative\n",
        "    true_neg = (sum(logisticpred[pos_test.shape[1]:] == Ytest[pos_test.shape[1]:])/ neg_test.shape[1])\n",
        "\n",
        "    #print(sum(logisticpred == Ytest )/(Ytest.shape[0])) #Total Accuracy rate\n",
        "    total_acc = (sum(logisticpred == Ytest )/(Ytest.shape[0]))\n",
        "\n",
        "    return(true_pos, true_neg, total_acc)\n",
        "\n",
        "  if __name__=='__main__':\n",
        "      pool = Pool(processes=4)\n",
        "      n = '2' #input value not used, just need something to fill.\n",
        "      result = pool.map(logistic, n)\n",
        "      pool.close()\n",
        "      #print(result)\n",
        "      TP_avg.append(result[0][0])\n",
        "      TN_avg.append(result[0][1])\n",
        "      TP_TN_avg.append(result[0][2])\n",
        "\n",
        "end = time.time()\n",
        "print(end-start)\n",
        "print(TP_avg)\n",
        "print(TN_avg)\n",
        "print(TP_TN_avg)\n",
        "#last output:\n",
        "#true pos mean: 0.6411428571428571\n",
        "#true neg mean: 0.73025\n",
        "#total accuracy mean: 0.6886666666666668\n",
        "#true pos var: 0.003217469387755101\n",
        "#true neg var: 0.0019286874999999998\n",
        "#total accuracy var: 0.001095555555555556\n",
        "#3min 26 seconds\n",
        "TP_mean = np.mean(TP_avg)\n",
        "TN_mean = np.mean(TN_avg)\n",
        "TP_TN_mean = np.mean(TP_TN_avg)\n",
        "TP_var = np.var(TP_avg)\n",
        "TN_var = np.var(TN_avg)\n",
        "TP_TN_var = np.var(TP_TN_avg)\n",
        "print(\"true pos mean: \" + str(TP_mean))\n",
        "print(\"true neg mean: \" + str(TN_mean))\n",
        "print(\"total accuracy mean: \" + str(TP_TN_mean))\n",
        "print(\"true pos var: \" + str(TP_var))\n",
        "print(\"true neg var: \" + str(TN_var))\n",
        "print(\"total accuracy var: \" + str(TP_TN_var))"
      ],
      "metadata": {
        "id": "1C4lliU7eXHx"
      },
      "execution_count": null,
      "outputs": []
    },
    {
      "cell_type": "code",
      "source": [
        "#boxplot Logistic\n",
        "import matplotlib.pyplot as plt\n",
        "import numpy as np\n",
        "\n",
        "my_dict = {'True positive': TP_avg, 'True negative': TN_avg, 'Total Accuracy': TP_TN_avg}\n",
        "plt.boxplot(my_dict.values(), labels=my_dict.keys());\n",
        "\n",
        "plt.ylabel('Accuracy')\n",
        "plt.title('Logistic Boxplot')"
      ],
      "metadata": {
        "id": "csJoN3F9eX-I"
      },
      "execution_count": null,
      "outputs": []
    }
  ]
}